{
 "cells": [
  {
   "cell_type": "markdown",
   "metadata": {},
   "source": [
    "# Introduction to Python for Biology\n",
    "# Day 2"
   ]
  },
  {
   "cell_type": "markdown",
   "metadata": {},
   "source": [
    "# Code Along"
   ]
  },
  {
   "cell_type": "markdown",
   "metadata": {},
   "source": [
    "## Special Characters"
   ]
  },
  {
   "cell_type": "markdown",
   "metadata": {},
   "source": [
    "If we want to add a new line when we print something out, we'll have to use a special character `\\n`"
   ]
  },
  {
   "cell_type": "code",
   "execution_count": null,
   "metadata": {},
   "outputs": [],
   "source": []
  },
  {
   "cell_type": "markdown",
   "metadata": {},
   "source": [
    "There are some other special characters that we use when working with strings in Python. They all have the backslash followed by a letter. For example, you may also use the `\\t` (tab) character. Note that we don't have to add spaces in between."
   ]
  },
  {
   "cell_type": "code",
   "execution_count": null,
   "metadata": {},
   "outputs": [],
   "source": []
  },
  {
   "cell_type": "markdown",
   "metadata": {},
   "source": [
    "## String Manipulation"
   ]
  },
  {
   "cell_type": "markdown",
   "metadata": {},
   "source": [
    "If we want to glue together two strings, we can **concatenate** them using the `+` (plus) symbol."
   ]
  },
  {
   "cell_type": "code",
   "execution_count": null,
   "metadata": {},
   "outputs": [],
   "source": []
  },
  {
   "cell_type": "markdown",
   "metadata": {},
   "source": [
    "We often concatenate in a print statement (you can sometimes also use commas)."
   ]
  },
  {
   "cell_type": "code",
   "execution_count": null,
   "metadata": {},
   "outputs": [],
   "source": []
  },
  {
   "cell_type": "markdown",
   "metadata": {},
   "source": [
    "Like we saw with lists yesterday, strings have a lot of built-in methods (functions that go along with them). Remember string methods show up after the name of the string variable and have parentheses after them. \n",
    "\n",
    "\n",
    "For example, there is a method `.lower()` that will change a string to all lowercase letters. This doesn't change the original variable. It returns a copy of the variable in lower case (that you can save to a new variable)."
   ]
  },
  {
   "cell_type": "code",
   "execution_count": null,
   "metadata": {},
   "outputs": [],
   "source": []
  },
  {
   "cell_type": "code",
   "execution_count": null,
   "metadata": {},
   "outputs": [],
   "source": []
  },
  {
   "cell_type": "markdown",
   "metadata": {},
   "source": [
    "Another useful string manipulation method is `.replace()`. It takes two arguments (both strings) and will return a copy of the original variable (so save it if you want to use it again)."
   ]
  },
  {
   "cell_type": "code",
   "execution_count": null,
   "metadata": {},
   "outputs": [],
   "source": []
  },
  {
   "cell_type": "markdown",
   "metadata": {},
   "source": [
    "Remember how we pulled out items from a list yesterday using their indices? We can do the same with a string to extract a substring. Remember that Python starts counting at 0."
   ]
  },
  {
   "cell_type": "code",
   "execution_count": null,
   "metadata": {},
   "outputs": [],
   "source": []
  },
  {
   "cell_type": "markdown",
   "metadata": {},
   "source": [
    "If we don't include a second number, we'll get all of the letters up until the end of the string."
   ]
  },
  {
   "cell_type": "code",
   "execution_count": null,
   "metadata": {},
   "outputs": [],
   "source": []
  },
  {
   "cell_type": "markdown",
   "metadata": {},
   "source": [
    "Often we will need to count the number of times some pattern in a string occurs in biology. `.count()` can help us count how many times a substring occurs in a string. It takes the substring as an argument and returns a number."
   ]
  },
  {
   "cell_type": "code",
   "execution_count": 15,
   "metadata": {},
   "outputs": [],
   "source": [
    "train = \"chugachugachugachugachugachugachugachugachugachugachugachoochoo\""
   ]
  },
  {
   "cell_type": "code",
   "execution_count": null,
   "metadata": {},
   "outputs": [],
   "source": []
  },
  {
   "cell_type": "markdown",
   "metadata": {},
   "source": [
    "If we want to find the location of the substrings, we can use `.find()`. It takes a single string argument and returns a number that is the position that substring first appears in the string. "
   ]
  },
  {
   "cell_type": "code",
   "execution_count": null,
   "metadata": {},
   "outputs": [],
   "source": []
  },
  {
   "cell_type": "code",
   "execution_count": null,
   "metadata": {},
   "outputs": [],
   "source": []
  },
  {
   "cell_type": "markdown",
   "metadata": {},
   "source": [
    "Both `.count()` and `.find()` can only find exact matches. This doesn't work great for variable site pattern searches, but we'll learn regular expressions later (which will help us with that)."
   ]
  },
  {
   "cell_type": "markdown",
   "metadata": {},
   "source": [
    "Another thing that we might want to do with strings is split them up into pieces. We can split a string into items in a list using `.split()` and then be able to iterate over it. `.split()` takes a single argument which is the character we want to split on (we call this the **delimiter.**)"
   ]
  },
  {
   "cell_type": "code",
   "execution_count": 22,
   "metadata": {},
   "outputs": [],
   "source": [
    "words = \"red,green,blue,yellow\""
   ]
  },
  {
   "cell_type": "code",
   "execution_count": null,
   "metadata": {},
   "outputs": [],
   "source": []
  },
  {
   "cell_type": "code",
   "execution_count": null,
   "metadata": {},
   "outputs": [],
   "source": []
  },
  {
   "cell_type": "markdown",
   "metadata": {},
   "source": [
    "## Reading Text from a File"
   ]
  },
  {
   "cell_type": "markdown",
   "metadata": {},
   "source": [
    "As biologists, we often need to read in text from a file as part of a pipeline. Let's learn how to use Python to interact with files we have.\n",
    "\n",
    "What kinds of text files do you use in your work? How is the data formatted? "
   ]
  },
  {
   "cell_type": "markdown",
   "metadata": {},
   "source": [
    "Before we can read a file, we have to open it. This creates a file object that we can give a variable name. "
   ]
  },
  {
   "cell_type": "code",
   "execution_count": null,
   "metadata": {},
   "outputs": [],
   "source": []
  },
  {
   "cell_type": "markdown",
   "metadata": {},
   "source": [
    "Once we've opened the file, we can read it and then treat it sort of like a string. These file contents are different than the file object and from the name of the file. Confusing these is a common cause of errors."
   ]
  },
  {
   "cell_type": "code",
   "execution_count": null,
   "metadata": {},
   "outputs": [],
   "source": []
  },
  {
   "cell_type": "code",
   "execution_count": null,
   "metadata": {},
   "outputs": [],
   "source": []
  },
  {
   "cell_type": "markdown",
   "metadata": {},
   "source": [
    "We have newlines at the end of a file we read in, and we can strip them off using the `.rstrip()` method which takes the character you'd like to remove as its argument."
   ]
  },
  {
   "cell_type": "code",
   "execution_count": null,
   "metadata": {},
   "outputs": [],
   "source": []
  },
  {
   "cell_type": "markdown",
   "metadata": {},
   "source": [
    "Commonly, we'll do this all in one line. You can string together Python methods. \n",
    "\n",
    "What is the best way to write it? The easiest way for you to understand and read it. If it makes more sense for you to write it out line by line for readability, go ahead. I often write my code line by line to start with and shorten it up in future passes. "
   ]
  },
  {
   "cell_type": "code",
   "execution_count": null,
   "metadata": {},
   "outputs": [],
   "source": []
  },
  {
   "cell_type": "markdown",
   "metadata": {},
   "source": [
    "## Iterating Over Lines of Text in a File"
   ]
  },
  {
   "cell_type": "markdown",
   "metadata": {},
   "source": [
    "Remember loops? We can treat file objects like lists and loop over them, with every line as an individual element. This is super useful if we need to process a file line by line.\n",
    "\n",
    "Make sure you loop over the file object, not the contents of the file (that you got from `.read()`. You'll know you've messed this up if you just get a single character for each line. It is helpful to ask yourself if you want to read your file in as one big chunk (in which case you use use `.read()`) or if you want to read your file in line by line (in which case you should loop over the file object)."
   ]
  },
  {
   "cell_type": "code",
   "execution_count": null,
   "metadata": {},
   "outputs": [],
   "source": []
  },
  {
   "cell_type": "markdown",
   "metadata": {},
   "source": [
    "Another thing to watch out for is looping over the same file object twice. You may have run into this before if you tried to rerun code from above because file objects are exhaustible. Python remembers that it is at the end of the file once you've looped over it, so it lets you know there are no more lines. You can close and reopen the file if you want to loop over it again or (better idea) you can read the contents into a list and iterate over the list multiple times without a problem. \n",
    "\n",
    "The `.readlines()` method, which is used on file objects, will read the lines of a file into a list."
   ]
  },
  {
   "cell_type": "markdown",
   "metadata": {},
   "source": [
    "First we will store a list of lines in the file."
   ]
  },
  {
   "cell_type": "code",
   "execution_count": null,
   "metadata": {},
   "outputs": [],
   "source": []
  },
  {
   "cell_type": "markdown",
   "metadata": {},
   "source": [
    "Then we can do stuff with the list by looping over it."
   ]
  },
  {
   "cell_type": "code",
   "execution_count": null,
   "metadata": {},
   "outputs": [],
   "source": []
  },
  {
   "cell_type": "code",
   "execution_count": null,
   "metadata": {},
   "outputs": [],
   "source": []
  },
  {
   "cell_type": "markdown",
   "metadata": {},
   "source": [
    "## Writing to a File"
   ]
  },
  {
   "cell_type": "markdown",
   "metadata": {},
   "source": [
    "Let's take a moment and look at the Python documentation (either by Googling or by using cmd/ctrl + tab) to try to figure out how to use the `open()` function to write to a file. \n",
    "\n",
    "We see that we can use the second (optional) argument version of the `open()` function and use \"w\" for writing. \n",
    "\n",
    "This second argument can be \"r\" for reading (it is this by default if we leave it off), \"w\" for writing\", or \"a\" for appending. \"w\" will overwrite an existing file, while \"a\" will add new data to the end of the file without removing content. (If the file doesn't exist, both \"w\" and \"a\" do the same thing). "
   ]
  },
  {
   "cell_type": "code",
   "execution_count": null,
   "metadata": {},
   "outputs": [],
   "source": []
  },
  {
   "cell_type": "markdown",
   "metadata": {},
   "source": [
    "Now that we've opened a file for writing, we can use the `.write()` method to write some text to it. This method is a lot like print and takes a string as an argument. (It can also take any function that would return a string.)"
   ]
  },
  {
   "cell_type": "code",
   "execution_count": null,
   "metadata": {},
   "outputs": [],
   "source": []
  },
  {
   "cell_type": "markdown",
   "metadata": {},
   "source": [
    "If we check the folder we are currently working in, we can see we now have a new file with the name we gave it. Let's open it and check the file contents. "
   ]
  },
  {
   "cell_type": "markdown",
   "metadata": {},
   "source": [
    "## Closing Files"
   ]
  },
  {
   "cell_type": "markdown",
   "metadata": {},
   "source": [
    "We'll also need to call the `.close()` method on the file when we are done reading to it or writing to it. (Note that `.close()` is a method and `open()` is a function). This will be a good habit to have and will prevent errors that are hard to track down. "
   ]
  },
  {
   "cell_type": "code",
   "execution_count": null,
   "metadata": {},
   "outputs": [],
   "source": []
  },
  {
   "cell_type": "code",
   "execution_count": null,
   "metadata": {},
   "outputs": [],
   "source": []
  },
  {
   "cell_type": "markdown",
   "metadata": {
    "colab_type": "text",
    "id": "-W6mNl-jz2Ry"
   },
   "source": [
    "## Pandas Library"
   ]
  },
  {
   "cell_type": "markdown",
   "metadata": {
    "colab_type": "text",
    "id": "N8K03D3yz2Rz"
   },
   "source": [
    "* A data analysis library — **Pan**el **Da**ta **S**ystem.\n",
    "* Created by Wes McKinney in 2009.\n",
    "* Implemented in highly optimized Python/Cython.\n",
    "* Like Excel or R for Python!"
   ]
  },
  {
   "cell_type": "markdown",
   "metadata": {
    "colab_type": "text",
    "id": "x6dJyD6dz2R0"
   },
   "source": [
    "### Pandas is used for"
   ]
  },
  {
   "cell_type": "markdown",
   "metadata": {
    "colab_type": "text",
    "id": "sb9P4Etfz2R2"
   },
   "source": [
    "* Cleaning data/munging.\n",
    "* Exploratory analysis.\n",
    "* Structuring data for plots or tabular display.\n",
    "* Joining disparate sources.\n",
    "* Modeling.\n",
    "* Filtering, extracting, or transforming."
   ]
  },
  {
   "cell_type": "markdown",
   "metadata": {
    "colab_type": "text",
    "id": "yALvlVl3z2R4"
   },
   "source": [
    "### Importing Pandas"
   ]
  },
  {
   "cell_type": "markdown",
   "metadata": {
    "colab_type": "text",
    "id": "UdPcxmbLz2R6"
   },
   "source": [
    "Import Pandas at the top of your notebook. Give it the nickname **pd** so you don't have to keep typing \"pandas.\" (But you can nickname it anything or leave out the nickname)"
   ]
  },
  {
   "cell_type": "code",
   "execution_count": null,
   "metadata": {
    "colab": {},
    "colab_type": "code",
    "id": "fBMvHZAKz2R8"
   },
   "outputs": [],
   "source": []
  },
  {
   "cell_type": "markdown",
   "metadata": {
    "colab_type": "text",
    "id": "JadK8RNzz2SA"
   },
   "source": [
    "### Loading a CSV as a DataFrame"
   ]
  },
  {
   "cell_type": "markdown",
   "metadata": {
    "colab_type": "text",
    "id": "OfgT64a5z2SC"
   },
   "source": [
    "Pandas can load many types of files, but one of the most common types is .csv (comma separated values)."
   ]
  },
  {
   "cell_type": "code",
   "execution_count": null,
   "metadata": {
    "colab": {},
    "colab_type": "code",
    "id": "g2GLFOlbz2SD"
   },
   "outputs": [],
   "source": []
  },
  {
   "cell_type": "markdown",
   "metadata": {
    "colab_type": "text",
    "id": "iI2yzKSZz2SJ"
   },
   "source": [
    "This creates a Pandas object called a **DataFrame.**  \n",
    "\n",
    "DataFrames are powerful containers that have lots of built-in functions for exploring and manipulating your data. "
   ]
  },
  {
   "cell_type": "markdown",
   "metadata": {
    "colab_type": "text",
    "id": "ZWCxy8Y-z2SL"
   },
   "source": [
    "### Exploring the data using DataFrames"
   ]
  },
  {
   "cell_type": "markdown",
   "metadata": {
    "colab_type": "text",
    "id": "v48riBypz2SM"
   },
   "source": [
    "#### Use .head() to examine the top of the DataFrame"
   ]
  },
  {
   "cell_type": "code",
   "execution_count": null,
   "metadata": {
    "colab": {},
    "colab_type": "code",
    "id": "XOKtVmYez2SO",
    "outputId": "c529f6cd-3315-4468-c5af-0498ee8af209"
   },
   "outputs": [],
   "source": []
  },
  {
   "cell_type": "code",
   "execution_count": null,
   "metadata": {
    "colab": {},
    "colab_type": "code",
    "id": "NQyGfvCez2Sa",
    "outputId": "8418cb7c-a0ce-407a-ff69-f21766f20df1"
   },
   "outputs": [],
   "source": []
  },
  {
   "cell_type": "markdown",
   "metadata": {
    "colab_type": "text",
    "id": "gJuD0gsPz2Sf"
   },
   "source": [
    "### Use .tail() to examine the bottom"
   ]
  },
  {
   "cell_type": "code",
   "execution_count": null,
   "metadata": {
    "colab": {},
    "colab_type": "code",
    "id": "hvYv_b1gz2Sg",
    "outputId": "725a0c77-8664-4d49-db4c-b67096b813bb"
   },
   "outputs": [],
   "source": []
  },
  {
   "cell_type": "markdown",
   "metadata": {
    "colab_type": "text",
    "id": "s6KMDKYbz2Sm"
   },
   "source": [
    "#### The .shape property will tell you how many rows and columns you have"
   ]
  },
  {
   "cell_type": "code",
   "execution_count": null,
   "metadata": {
    "colab": {},
    "colab_type": "code",
    "id": "JQ-MoCb9z2Sn",
    "outputId": "c1999754-fc2f-4cc8-d846-681af29e6e82"
   },
   "outputs": [],
   "source": []
  },
  {
   "cell_type": "markdown",
   "metadata": {
    "colab_type": "text",
    "id": "sHqREcvBz2St"
   },
   "source": [
    "#### You can look up the names of your columns using the .columns property."
   ]
  },
  {
   "cell_type": "code",
   "execution_count": null,
   "metadata": {
    "colab": {},
    "colab_type": "code",
    "id": "DNOYz7dbz2Su",
    "outputId": "a6cb9489-4a55-43b6-f2dd-c158bef45961"
   },
   "outputs": [],
   "source": []
  },
  {
   "cell_type": "markdown",
   "metadata": {},
   "source": [
    "#### You can transpose the data using .T\n",
    "Note that we don't affect the original variable in this way."
   ]
  },
  {
   "cell_type": "code",
   "execution_count": null,
   "metadata": {},
   "outputs": [],
   "source": []
  },
  {
   "cell_type": "markdown",
   "metadata": {
    "colab_type": "text",
    "id": "nClLXDf7z2Sy"
   },
   "source": [
    "#### You can access a specific column with bracket syntax (like with dictionaries) using the column's string name."
   ]
  },
  {
   "cell_type": "code",
   "execution_count": null,
   "metadata": {
    "colab": {},
    "colab_type": "code",
    "id": "YNmWEYNPz2S1",
    "outputId": "c83d94dc-98e5-4179-b462-74ef1f63a808"
   },
   "outputs": [],
   "source": []
  },
  {
   "cell_type": "markdown",
   "metadata": {
    "colab_type": "text",
    "id": "7FDHVpoKz2S_"
   },
   "source": [
    "#### You can also access it using dot notation. (When might this not work?)"
   ]
  },
  {
   "cell_type": "code",
   "execution_count": null,
   "metadata": {
    "colab": {},
    "colab_type": "code",
    "id": "uWcKKGZPz2TA",
    "outputId": "7c15ac89-bcab-45a5-eeeb-51f3facfff1b"
   },
   "outputs": [],
   "source": []
  },
  {
   "cell_type": "code",
   "execution_count": null,
   "metadata": {
    "colab": {},
    "colab_type": "code",
    "id": "Be7M_PYaz2TI",
    "outputId": "c80ee58f-bbd9-45bc-f746-49088bb88902"
   },
   "outputs": [],
   "source": []
  },
  {
   "cell_type": "markdown",
   "metadata": {
    "colab_type": "text",
    "id": "_xvkH0z8z2TN"
   },
   "source": [
    "Notice that this looks a little different than our DataFrame above. That is because it is a Series object. It's a little different than a Dataframe. \n",
    "\n",
    "**What's the difference between Pandas' Series and DataFrame objects?**  \n",
    "Essentially, a Series object contains the data for a single column, and a DataFrame object is a matrix-like container for those Series objects that comprise your data. They mostly act like one another, but occasionaly you'll run into methods that only work for one."
   ]
  },
  {
   "cell_type": "markdown",
   "metadata": {
    "colab_type": "text",
    "id": "yWqInwYgz2TO"
   },
   "source": [
    "#### Examining Your Data With .info()  \n",
    "Provides information about:\n",
    "\n",
    "* The name of the column/variable attribute.\n",
    "* The type of index (RangeIndex is default).\n",
    "* The count of non-null values by column/attribute.\n",
    "* The type of data contained in the column/attribute.\n",
    "* The unqiue counts of dtypes (pandas data types).\n",
    "* The memory usage of our data set."
   ]
  },
  {
   "cell_type": "code",
   "execution_count": null,
   "metadata": {
    "colab": {},
    "colab_type": "code",
    "id": "I7j9zdP7z2TR",
    "outputId": "c97cc37b-7e27-4b3f-8dc4-cc570d9c2557"
   },
   "outputs": [],
   "source": []
  },
  {
   "cell_type": "markdown",
   "metadata": {
    "colab_type": "text",
    "id": "5LQnDf2Pz2TX"
   },
   "source": [
    "Types affect the way data is represented in machine learning models, whether we can apply math operators to them, etc.   \n",
    "\n",
    "Some common problems with working with a new dataset:  \n",
    "* Missing values.\n",
    "* Unexpected types (string/object instead of int/float).\n",
    "* Dirty data (commas, dollar signs, unexpected characters, etc.).\n",
    "* Blank values that are actually \"non-null\" or single white-space characters."
   ]
  },
  {
   "cell_type": "markdown",
   "metadata": {
    "colab_type": "text",
    "id": "srAawUuhz2Te"
   },
   "source": [
    "#### Summarize the data with .describe()\n",
    "It gives us the following statistics:\n",
    "\n",
    "* Count, which is equivalent to the number of cells (rows).\n",
    "* Mean, or, the average of the values in the column.\n",
    "* Std, which is the standard deviation.\n",
    "* Min, a.k.a., the minimum value.\n",
    "* 25%, or, the 25th percentile of the values.\n",
    "* 50%, or, the 50th percentile of the values ( which is the equivalent to the median).\n",
    "* 75%, or, the 75th percentile of the values.\n",
    "* Max, which is the maximum value.  \n",
    "\n",
    "Let's try this on a single column as well as the entire dataframe."
   ]
  },
  {
   "cell_type": "code",
   "execution_count": null,
   "metadata": {
    "colab": {},
    "colab_type": "code",
    "id": "P9oEeIGsz2Th",
    "outputId": "4b85135c-d979-4957-b1bb-a3d7f9084ca1"
   },
   "outputs": [],
   "source": []
  },
  {
   "cell_type": "code",
   "execution_count": null,
   "metadata": {
    "colab": {},
    "colab_type": "code",
    "id": "ZgfyKAnlz2To",
    "outputId": "950cba8b-c7ff-4337-c049-ddb31d108cf7"
   },
   "outputs": [],
   "source": []
  },
  {
   "cell_type": "markdown",
   "metadata": {
    "colab_type": "text",
    "id": "wvwEOZ9hz2T2"
   },
   "source": [
    "There are also built-in math functions that will work on all columns of a DataFrame at once, as well as subsets of the data.\n",
    "\n",
    "#### For example, I can use the .mean() function on the titanic DataFrame to get the mean for every column."
   ]
  },
  {
   "cell_type": "code",
   "execution_count": null,
   "metadata": {
    "colab": {},
    "colab_type": "code",
    "id": "YX782relz2T5",
    "outputId": "125f9311-5d5a-4f20-d477-f8fc5abae6dc"
   },
   "outputs": [],
   "source": []
  },
  {
   "cell_type": "markdown",
   "metadata": {
    "colab_type": "text",
    "id": "FAWvmVg2z2T-"
   },
   "source": [
    "### Reading in trickier file types"
   ]
  },
  {
   "cell_type": "markdown",
   "metadata": {
    "colab_type": "text",
    "id": "pUdOXap5z2UA"
   },
   "source": [
    "This worked well above because we `.read_csv()` expected a comma-separated file with a header row. What happens when these don't match?"
   ]
  },
  {
   "cell_type": "code",
   "execution_count": null,
   "metadata": {
    "colab": {},
    "colab_type": "code",
    "id": "FnRxeW5Az2UB"
   },
   "outputs": [],
   "source": []
  },
  {
   "cell_type": "code",
   "execution_count": null,
   "metadata": {
    "colab": {},
    "colab_type": "code",
    "id": "y8RKHEYpz2UG",
    "outputId": "41a0fd9f-5d91-4a56-b457-7c0d59938fcb"
   },
   "outputs": [],
   "source": []
  },
  {
   "cell_type": "markdown",
   "metadata": {
    "colab_type": "text",
    "id": "yPlYjm1wz2UN"
   },
   "source": [
    "What happened here? Let's Google `pandas .read_csv` to look at the documentation and troubleshoot. "
   ]
  },
  {
   "cell_type": "code",
   "execution_count": null,
   "metadata": {
    "colab": {},
    "colab_type": "code",
    "id": "O8J3ZoPmz2UO"
   },
   "outputs": [],
   "source": []
  },
  {
   "cell_type": "code",
   "execution_count": null,
   "metadata": {
    "colab": {},
    "colab_type": "code",
    "id": "v25khCKMz2UQ",
    "outputId": "c1495f21-4763-44e3-ee58-92f77732b3fc"
   },
   "outputs": [],
   "source": []
  },
  {
   "cell_type": "markdown",
   "metadata": {
    "colab_type": "text",
    "id": "_Jm3WNZVz2UT"
   },
   "source": [
    "We fixed part of the problem, but we still need pandas to understand we don't have a header in this file."
   ]
  },
  {
   "cell_type": "code",
   "execution_count": 1,
   "metadata": {
    "colab": {},
    "colab_type": "code",
    "id": "gR59gPW2z2UU"
   },
   "outputs": [],
   "source": [
    "golf_cols = [\"Date\", \"Outlook\", \"Temperature\", \"Humidity\", \"Windy\", \"Result\"]"
   ]
  },
  {
   "cell_type": "code",
   "execution_count": null,
   "metadata": {
    "colab": {},
    "colab_type": "code",
    "id": "QA6uEy_6z2Ua",
    "outputId": "d9ee61e1-66f9-467a-9780-8f3a733dc5c2"
   },
   "outputs": [],
   "source": []
  },
  {
   "cell_type": "markdown",
   "metadata": {
    "colab_type": "text",
    "id": "uoGsfZjez2Uk"
   },
   "source": [
    "The `skiprows` and `skipfooter` arguments may also be useful if you have collaborators who make extra notes in their data files that you need to ignore."
   ]
  },
  {
   "cell_type": "markdown",
   "metadata": {
    "colab_type": "text",
    "id": "mHrpqvqNz2VQ"
   },
   "source": [
    "## Pandas Indexing"
   ]
  },
  {
   "cell_type": "markdown",
   "metadata": {
    "colab_type": "text",
    "id": "ZmWUDXr6z2VR"
   },
   "source": [
    "#### Let's read in the drug dataset for practicing indexing"
   ]
  },
  {
   "cell_type": "code",
   "execution_count": null,
   "metadata": {
    "colab": {},
    "colab_type": "code",
    "id": "wd1KAuuzz2VS",
    "outputId": "18067ece-ca20-4926-c0f4-d0fbbeed5b42"
   },
   "outputs": [],
   "source": []
  },
  {
   "cell_type": "markdown",
   "metadata": {
    "colab_type": "text",
    "id": "HzoddBugz2VX"
   },
   "source": [
    "A common task is that we'll want to operate on a specific portion of our data. With indexing, we can pull out a specific part of our DataFrame.  \n",
    "\n",
    "pandas has three properties you can use for indexing:\n",
    "\n",
    "* **.loc** indexes with the labels for rows and columns.\n",
    "* **.iloc** indexes with the integer positions for rows and columns. "
   ]
  },
  {
   "cell_type": "markdown",
   "metadata": {
    "colab_type": "text",
    "id": "1WzDOvEkz2VY"
   },
   "source": [
    "#### Using the .loc indexer, let's pull out row 0 and all columns `dataframe.loc[rows, columns]`"
   ]
  },
  {
   "cell_type": "code",
   "execution_count": null,
   "metadata": {
    "colab": {},
    "colab_type": "code",
    "id": "7TRln7Bdz2Vm",
    "outputId": "72f8ceb5-bd64-44c5-f02a-c49402baa458"
   },
   "outputs": [],
   "source": []
  },
  {
   "cell_type": "markdown",
   "metadata": {
    "colab_type": "text",
    "id": "sCBjHNK-z2Vs"
   },
   "source": [
    "#### What if I want multiple rows? Let's get rows 0, 1, and 2 by passing in a list"
   ]
  },
  {
   "cell_type": "code",
   "execution_count": null,
   "metadata": {
    "colab": {},
    "colab_type": "code",
    "id": "8G9-3WmZz2Vt",
    "outputId": "4586a7bd-ab0f-4663-882f-3345178438d3"
   },
   "outputs": [],
   "source": []
  },
  {
   "cell_type": "markdown",
   "metadata": {
    "colab_type": "text",
    "id": "c88ca_63z2Vz"
   },
   "source": [
    "#### Can you think of a more efficient way to do this?"
   ]
  },
  {
   "cell_type": "code",
   "execution_count": null,
   "metadata": {
    "colab": {},
    "colab_type": "code",
    "id": "nlaIcWWVz2V0",
    "outputId": "dc376237-add8-4b1d-b86f-2ee341191ca0"
   },
   "outputs": [],
   "source": []
  },
  {
   "cell_type": "markdown",
   "metadata": {
    "colab_type": "text",
    "id": "j4zf30jvz2V7"
   },
   "source": [
    "Note that .loc is inclusive on both sides. This is different than the behavior of some other Python functions, like `range`"
   ]
  },
  {
   "cell_type": "markdown",
   "metadata": {
    "colab_type": "text",
    "id": "w8cCphXLz2V7"
   },
   "source": [
    "#### Let's do the same thing for columns and just select the `sedative-use` and `sedative-frequency` column"
   ]
  },
  {
   "cell_type": "code",
   "execution_count": null,
   "metadata": {
    "colab": {},
    "colab_type": "code",
    "id": "62wGWF8xz2V8",
    "outputId": "300e1ab1-00a2-40b5-9e56-1be4ce99fab2"
   },
   "outputs": [],
   "source": []
  },
  {
   "cell_type": "markdown",
   "metadata": {
    "colab_type": "text",
    "id": "7ZseZUbDz2V_"
   },
   "source": [
    "#### We can pull out rows and columns. Let's pull out rows 0 through 2 and `sedative-use` and `sedative-frequency` columns."
   ]
  },
  {
   "cell_type": "code",
   "execution_count": null,
   "metadata": {
    "colab": {},
    "colab_type": "code",
    "id": "elS4Hl7Hz2V_",
    "outputId": "21e7f759-58a0-4b84-fa29-b6c100e86c9d"
   },
   "outputs": [],
   "source": []
  },
  {
   "cell_type": "markdown",
   "metadata": {
    "colab_type": "text",
    "id": "ydsgXxhHz2WF"
   },
   "source": [
    "#### We can do the same thing with the .iloc indexer. This time we use integers for the position.  Let's get all rows and columns in position 0 and 3."
   ]
  },
  {
   "cell_type": "code",
   "execution_count": null,
   "metadata": {
    "colab": {},
    "colab_type": "code",
    "id": "HGsr7xr_z2WJ",
    "outputId": "42c80f6d-3c38-42bd-ad41-c51ba3cc9ac9"
   },
   "outputs": [],
   "source": []
  },
  {
   "cell_type": "markdown",
   "metadata": {
    "colab_type": "text",
    "id": "ULsEdZqZz2WR"
   },
   "source": [
    "#### Let's get all of the rows and columns 0 through 4 using `.iloc`"
   ]
  },
  {
   "cell_type": "code",
   "execution_count": null,
   "metadata": {
    "colab": {},
    "colab_type": "code",
    "id": "UQVOXmR4z2WR",
    "outputId": "0c7d9426-b9cb-4cb3-ae5c-d1e1d217f930"
   },
   "outputs": [],
   "source": []
  },
  {
   "cell_type": "markdown",
   "metadata": {
    "colab_type": "text",
    "id": "kMepfVKWz2WW"
   },
   "source": [
    "Note that `.iloc` is inclusive of the first number but exclusive of the second number. This is more like `range`."
   ]
  },
  {
   "cell_type": "markdown",
   "metadata": {
    "colab_type": "text",
    "id": "FJ0OYT6Yz2WX"
   },
   "source": [
    "#### Let's get the first four rows and the first two columns"
   ]
  },
  {
   "cell_type": "code",
   "execution_count": null,
   "metadata": {
    "colab": {},
    "colab_type": "code",
    "id": "qJoPV60-z2WX",
    "outputId": "2816dc7f-bdeb-41be-9b16-46c43402aad3"
   },
   "outputs": [],
   "source": []
  },
  {
   "cell_type": "markdown",
   "metadata": {
    "colab_type": "text",
    "id": "VkQqNuCFz2Wa"
   },
   "source": [
    "### Creating DataFrames"
   ]
  },
  {
   "cell_type": "markdown",
   "metadata": {
    "colab_type": "text",
    "id": "c_D3iyuXz2Wb"
   },
   "source": [
    "You can create your own DataFrame without importing data from a file using pd.DataFrame() on a dictionary.  \n",
    "Make sure the dictionary has lists of values that are all the same length. The keys correspond to the names of the columns, and the values correspond to the data in the columns."
   ]
  },
  {
   "cell_type": "code",
   "execution_count": null,
   "metadata": {
    "colab": {},
    "colab_type": "code",
    "id": "NI3DMd2iz2Wc",
    "outputId": "caef6e4f-9584-41e5-cd47-38ef9b05bd5c"
   },
   "outputs": [],
   "source": []
  },
  {
   "cell_type": "markdown",
   "metadata": {
    "colab_type": "text",
    "id": "S2jIt86jz2Wg"
   },
   "source": [
    "#### Examine the data types"
   ]
  },
  {
   "cell_type": "markdown",
   "metadata": {
    "colab_type": "text",
    "id": "QB70dD4Jz2Wh"
   },
   "source": [
    "Use .dtypes on your DataFrame.  "
   ]
  },
  {
   "cell_type": "code",
   "execution_count": null,
   "metadata": {
    "colab": {},
    "colab_type": "code",
    "id": "0yfd4A2Qz2Wh",
    "outputId": "9e7523fc-ff86-4775-926c-05fb0c975211"
   },
   "outputs": [],
   "source": []
  },
  {
   "cell_type": "markdown",
   "metadata": {
    "colab_type": "text",
    "id": "zh8iNBYKz2Wj"
   },
   "source": [
    "Strings are stored as a type called \"object,\" as they are not guaranteed to take up a set amount of space (strings can be any length)."
   ]
  },
  {
   "cell_type": "markdown",
   "metadata": {
    "colab_type": "text",
    "id": "2FMc5JK3z2Wk"
   },
   "source": [
    "#### Rename columns"
   ]
  },
  {
   "cell_type": "markdown",
   "metadata": {
    "colab_type": "text",
    "id": "mqvvVRCXz2Wk"
   },
   "source": [
    "Change the column name Integers to int:"
   ]
  },
  {
   "cell_type": "code",
   "execution_count": null,
   "metadata": {
    "colab": {},
    "colab_type": "code",
    "id": "S1ShfqGNz2Wl",
    "outputId": "1c6a2d05-3101-41be-857f-5b753899ff9c"
   },
   "outputs": [],
   "source": []
  },
  {
   "cell_type": "markdown",
   "metadata": {
    "colab_type": "text",
    "id": "2p7GHMrXz2Wo"
   },
   "source": [
    "Why did we have to use `inplace` this time? Let's check the documentation. See that `inplace=False` is the default for this method. It's Pandas way of trying to protect us. "
   ]
  },
  {
   "cell_type": "markdown",
   "metadata": {
    "colab_type": "text",
    "id": "VpP6n0IXz2Wp"
   },
   "source": [
    "#### Rename all of the columns by assigning a list to the .columns property"
   ]
  },
  {
   "cell_type": "code",
   "execution_count": null,
   "metadata": {
    "colab": {},
    "colab_type": "code",
    "id": "yKG0TPznz2Wp",
    "outputId": "cbde9b46-87cf-4176-cbdc-dce1136ed1c5"
   },
   "outputs": [],
   "source": []
  },
  {
   "cell_type": "markdown",
   "metadata": {},
   "source": [
    "## Changing data types"
   ]
  },
  {
   "cell_type": "markdown",
   "metadata": {},
   "source": [
    "Load the `drinks.csv` data."
   ]
  },
  {
   "cell_type": "code",
   "execution_count": null,
   "metadata": {},
   "outputs": [],
   "source": []
  },
  {
   "cell_type": "markdown",
   "metadata": {},
   "source": [
    "#### Check the datatypes of the dataframe"
   ]
  },
  {
   "cell_type": "code",
   "execution_count": null,
   "metadata": {},
   "outputs": [],
   "source": []
  },
  {
   "cell_type": "markdown",
   "metadata": {},
   "source": [
    "#### Change the datatype of the `beer_servings` column to floating point"
   ]
  },
  {
   "cell_type": "code",
   "execution_count": null,
   "metadata": {},
   "outputs": [],
   "source": []
  },
  {
   "cell_type": "code",
   "execution_count": null,
   "metadata": {},
   "outputs": [],
   "source": []
  },
  {
   "cell_type": "markdown",
   "metadata": {},
   "source": [
    "## Filtering and Sorting DataFrames"
   ]
  },
  {
   "cell_type": "markdown",
   "metadata": {},
   "source": [
    "#### Filter drinks to include only European countries."
   ]
  },
  {
   "cell_type": "markdown",
   "metadata": {},
   "source": [
    "First we create a series of Booleans"
   ]
  },
  {
   "cell_type": "code",
   "execution_count": null,
   "metadata": {},
   "outputs": [],
   "source": []
  },
  {
   "cell_type": "markdown",
   "metadata": {},
   "source": [
    "Then we can use this series to filter our dataframe. (This is why we see the `drinks` twice.)"
   ]
  },
  {
   "cell_type": "code",
   "execution_count": null,
   "metadata": {},
   "outputs": [],
   "source": []
  },
  {
   "cell_type": "markdown",
   "metadata": {},
   "source": [
    "#### Filter drinks to include only European countries with wine_servings > 300."
   ]
  },
  {
   "cell_type": "code",
   "execution_count": null,
   "metadata": {},
   "outputs": [],
   "source": []
  },
  {
   "cell_type": "markdown",
   "metadata": {},
   "source": [
    "#### Filter drinks to include only countries with wine_servings > 300 or beer_servings > 300."
   ]
  },
  {
   "cell_type": "code",
   "execution_count": null,
   "metadata": {},
   "outputs": [],
   "source": []
  },
  {
   "cell_type": "markdown",
   "metadata": {},
   "source": [
    "#### If we find ourselves gluing together a bunch of \"OR\" statements, we can use `.isin` to create a boolean series to pass into the dataframe"
   ]
  },
  {
   "cell_type": "code",
   "execution_count": null,
   "metadata": {},
   "outputs": [],
   "source": []
  },
  {
   "cell_type": "code",
   "execution_count": null,
   "metadata": {},
   "outputs": [],
   "source": []
  },
  {
   "cell_type": "code",
   "execution_count": null,
   "metadata": {},
   "outputs": [],
   "source": []
  },
  {
   "cell_type": "markdown",
   "metadata": {},
   "source": [
    "#### Calculate the mean beer_servings for all of Europe."
   ]
  },
  {
   "cell_type": "code",
   "execution_count": null,
   "metadata": {},
   "outputs": [],
   "source": []
  },
  {
   "cell_type": "markdown",
   "metadata": {},
   "source": [
    "#### Determine which 10 countries have the highest total_litres_of_pure_alcohol."
   ]
  },
  {
   "cell_type": "code",
   "execution_count": null,
   "metadata": {},
   "outputs": [],
   "source": []
  },
  {
   "cell_type": "markdown",
   "metadata": {},
   "source": [
    "#### Which 10 countries have the lowest total_litres_of_pure_alcohol?"
   ]
  },
  {
   "cell_type": "code",
   "execution_count": null,
   "metadata": {},
   "outputs": [],
   "source": []
  },
  {
   "cell_type": "markdown",
   "metadata": {},
   "source": [
    "Side note: This does not change the underlying data. How can we change the underlying data?"
   ]
  },
  {
   "cell_type": "markdown",
   "metadata": {},
   "source": [
    "#### Let's sort by multiple columns. First sort by `beer_servings` then by `wine_servings`."
   ]
  },
  {
   "cell_type": "code",
   "execution_count": null,
   "metadata": {},
   "outputs": [],
   "source": []
  },
  {
   "cell_type": "markdown",
   "metadata": {},
   "source": [
    "## Renaming, Adding, and Removing Columns"
   ]
  },
  {
   "cell_type": "markdown",
   "metadata": {},
   "source": [
    "#### Rename `beer_servings` as `beer` and `wine_servings` as `wine` in the `drinks` DataFrame, returning a new DataFrame."
   ]
  },
  {
   "cell_type": "code",
   "execution_count": null,
   "metadata": {},
   "outputs": [],
   "source": []
  },
  {
   "cell_type": "markdown",
   "metadata": {},
   "source": [
    "#### Perform the same renaming for `drinks`, but in place."
   ]
  },
  {
   "cell_type": "code",
   "execution_count": null,
   "metadata": {},
   "outputs": [],
   "source": []
  },
  {
   "cell_type": "code",
   "execution_count": null,
   "metadata": {},
   "outputs": [],
   "source": []
  },
  {
   "cell_type": "markdown",
   "metadata": {},
   "source": [
    "#### Replace the column names of drinks with `['country', 'beer', 'spirit', 'wine', 'liters', 'continent']`."
   ]
  },
  {
   "cell_type": "code",
   "execution_count": null,
   "metadata": {},
   "outputs": [],
   "source": []
  },
  {
   "cell_type": "markdown",
   "metadata": {},
   "source": [
    "#### Replace the column names of drinks with ['country', 'beer', 'spirit', 'wine', 'liters', 'continent'] when you import the file."
   ]
  },
  {
   "cell_type": "code",
   "execution_count": null,
   "metadata": {},
   "outputs": [],
   "source": []
  },
  {
   "cell_type": "markdown",
   "metadata": {},
   "source": [
    "#### Bonus Tip: What if we have a lot of columns where we want to replace spaces with underscores?"
   ]
  },
  {
   "cell_type": "code",
   "execution_count": null,
   "metadata": {},
   "outputs": [],
   "source": []
  },
  {
   "cell_type": "markdown",
   "metadata": {},
   "source": [
    "#### Make a `servings` column that combines `beer`, `spirit`, and `wine`."
   ]
  },
  {
   "cell_type": "code",
   "execution_count": null,
   "metadata": {},
   "outputs": [],
   "source": []
  },
  {
   "cell_type": "markdown",
   "metadata": {},
   "source": [
    "#### Make an `mL` column that is the `liters` column multiplied by 1,000."
   ]
  },
  {
   "cell_type": "code",
   "execution_count": null,
   "metadata": {},
   "outputs": [],
   "source": []
  },
  {
   "cell_type": "markdown",
   "metadata": {},
   "source": [
    "#### Remove the `mL` column, returning a new DataFrame."
   ]
  },
  {
   "cell_type": "code",
   "execution_count": null,
   "metadata": {},
   "outputs": [],
   "source": []
  },
  {
   "cell_type": "markdown",
   "metadata": {},
   "source": [
    "#### Remove the `mL` and `servings` columns from drinks in place."
   ]
  },
  {
   "cell_type": "code",
   "execution_count": null,
   "metadata": {},
   "outputs": [],
   "source": []
  },
  {
   "cell_type": "markdown",
   "metadata": {},
   "source": [
    "#### What if we want to remove rows instead of column?"
   ]
  },
  {
   "cell_type": "code",
   "execution_count": null,
   "metadata": {},
   "outputs": [],
   "source": []
  },
  {
   "cell_type": "markdown",
   "metadata": {},
   "source": [
    "## Axis parameter"
   ]
  },
  {
   "cell_type": "markdown",
   "metadata": {},
   "source": [
    "#### `axis=0` goes row by row and collapses the values into the mean"
   ]
  },
  {
   "cell_type": "code",
   "execution_count": null,
   "metadata": {},
   "outputs": [],
   "source": []
  },
  {
   "cell_type": "markdown",
   "metadata": {},
   "source": [
    "#### `axis=1` goes column by column and collapses into the mean  for each row (It helps me to think of the number 1 looking like an architectural column)"
   ]
  },
  {
   "cell_type": "code",
   "execution_count": null,
   "metadata": {},
   "outputs": [],
   "source": []
  },
  {
   "cell_type": "markdown",
   "metadata": {},
   "source": [
    "#### `axis` has aliases/nicknames that are a bit more intuitive"
   ]
  },
  {
   "cell_type": "code",
   "execution_count": null,
   "metadata": {},
   "outputs": [],
   "source": []
  },
  {
   "cell_type": "code",
   "execution_count": null,
   "metadata": {},
   "outputs": [],
   "source": []
  },
  {
   "cell_type": "markdown",
   "metadata": {},
   "source": [
    "## Handling Missing Values"
   ]
  },
  {
   "cell_type": "markdown",
   "metadata": {},
   "source": [
    "#### Create a dataframe of Booleans indicating which values are missing or not missing."
   ]
  },
  {
   "cell_type": "code",
   "execution_count": null,
   "metadata": {},
   "outputs": [],
   "source": []
  },
  {
   "cell_type": "code",
   "execution_count": null,
   "metadata": {},
   "outputs": [],
   "source": []
  },
  {
   "cell_type": "markdown",
   "metadata": {},
   "source": [
    "#### Find the number of missing values by column in `drinks`."
   ]
  },
  {
   "cell_type": "code",
   "execution_count": null,
   "metadata": {},
   "outputs": [],
   "source": []
  },
  {
   "cell_type": "markdown",
   "metadata": {},
   "source": [
    "#### Drop rows where ANY values are missing in `drinks` (returning a new DataFrame)."
   ]
  },
  {
   "cell_type": "code",
   "execution_count": null,
   "metadata": {},
   "outputs": [],
   "source": []
  },
  {
   "cell_type": "markdown",
   "metadata": {},
   "source": [
    "#### Drop rows only where ALL values are missing in `drinks`."
   ]
  },
  {
   "cell_type": "code",
   "execution_count": null,
   "metadata": {},
   "outputs": [],
   "source": []
  },
  {
   "cell_type": "markdown",
   "metadata": {},
   "source": [
    "#### Filling in NaN Values. What's up with all of these NaN continents?"
   ]
  },
  {
   "cell_type": "code",
   "execution_count": null,
   "metadata": {},
   "outputs": [],
   "source": []
  },
  {
   "cell_type": "markdown",
   "metadata": {},
   "source": [
    "All of these continents are in North America (NA), and, when read in, were misinterpreted as a null or NaN value."
   ]
  },
  {
   "cell_type": "markdown",
   "metadata": {},
   "source": [
    "#### Fill in the missing values of the `continent` column using string 'NA'."
   ]
  },
  {
   "cell_type": "code",
   "execution_count": null,
   "metadata": {},
   "outputs": [],
   "source": []
  },
  {
   "cell_type": "markdown",
   "metadata": {},
   "source": [
    "## Split-Apply-Combine"
   ]
  },
  {
   "cell_type": "markdown",
   "metadata": {},
   "source": [
    "#### Find the mean beer servings across the entire `drinks` dataset"
   ]
  },
  {
   "cell_type": "code",
   "execution_count": null,
   "metadata": {},
   "outputs": [],
   "source": []
  },
  {
   "cell_type": "markdown",
   "metadata": {},
   "source": [
    "#### But what if we wanted to look at beer servings by continent? This is where`.groupby()` is useful. This filters by each continent and then calculates the mean."
   ]
  },
  {
   "cell_type": "code",
   "execution_count": null,
   "metadata": {},
   "outputs": [],
   "source": []
  },
  {
   "cell_type": "markdown",
   "metadata": {},
   "source": [
    "Use a `.groupby()` whenever you want to analyze a dataset by some category. If you can phrase your question as \"For each...\", then it is a good candidate for a `.groupby()` For example, \"For each continent, what is the mean beer serving?\""
   ]
  },
  {
   "cell_type": "markdown",
   "metadata": {},
   "source": [
    "#### What happens if we don't specify a column? Let's find the max of all the columns"
   ]
  },
  {
   "cell_type": "code",
   "execution_count": null,
   "metadata": {},
   "outputs": [],
   "source": []
  },
  {
   "cell_type": "markdown",
   "metadata": {},
   "source": [
    "#### Using the `.agg` function we can specify multiple functions at once for our `.groupby()`"
   ]
  },
  {
   "cell_type": "code",
   "execution_count": null,
   "metadata": {},
   "outputs": [],
   "source": []
  },
  {
   "cell_type": "markdown",
   "metadata": {
    "collapsed": true
   },
   "source": [
    "## String methods"
   ]
  },
  {
   "cell_type": "markdown",
   "metadata": {},
   "source": [
    "#### You can use Python's string methods with pandas by using `.str` beore the name of the string method. Remember that many of these string methods use regular expressions. "
   ]
  },
  {
   "cell_type": "code",
   "execution_count": null,
   "metadata": {},
   "outputs": [],
   "source": []
  },
  {
   "cell_type": "code",
   "execution_count": null,
   "metadata": {},
   "outputs": [],
   "source": []
  },
  {
   "cell_type": "markdown",
   "metadata": {},
   "source": [
    "## File Contents and Manipulation"
   ]
  },
  {
   "cell_type": "markdown",
   "metadata": {},
   "source": [
    "The code in this section interacts with the operating system, so it may require some tweaking to work on your machine. Also, keep in mind that the file paths need to refer to the path on your computer.\n",
    "\n",
    "These file paths are written in Unix/Linux style and will need adjustment if you are working from a Windows machine. "
   ]
  },
  {
   "cell_type": "markdown",
   "metadata": {},
   "source": [
    "We can use the `os` module to interact with the files on our computer. "
   ]
  },
  {
   "cell_type": "code",
   "execution_count": null,
   "metadata": {},
   "outputs": [],
   "source": []
  },
  {
   "cell_type": "markdown",
   "metadata": {},
   "source": [
    "The `.rename()` method allows us to rename files. "
   ]
  },
  {
   "cell_type": "code",
   "execution_count": null,
   "metadata": {},
   "outputs": [],
   "source": []
  },
  {
   "cell_type": "markdown",
   "metadata": {},
   "source": [
    "We can also move our file while we rename it. If you don't change the name while doing this, it will just move the file to a new folder."
   ]
  },
  {
   "cell_type": "code",
   "execution_count": null,
   "metadata": {},
   "outputs": [],
   "source": []
  },
  {
   "cell_type": "markdown",
   "metadata": {},
   "source": [
    "We can also create directories if they don't exist with the `.mdir()` module. The `.mkdirs()` module will allow us to make multiple files at once. "
   ]
  },
  {
   "cell_type": "code",
   "execution_count": null,
   "metadata": {},
   "outputs": [],
   "source": []
  },
  {
   "cell_type": "markdown",
   "metadata": {},
   "source": [
    "We can also check to see if a file or directory exists using `os.path.exists()`. This will return a Boolean (True or False)."
   ]
  },
  {
   "cell_type": "code",
   "execution_count": null,
   "metadata": {},
   "outputs": [],
   "source": []
  },
  {
   "cell_type": "markdown",
   "metadata": {},
   "source": [
    "We can use the `shutil` module to make copies of our files."
   ]
  },
  {
   "cell_type": "code",
   "execution_count": null,
   "metadata": {},
   "outputs": [],
   "source": []
  },
  {
   "cell_type": "code",
   "execution_count": null,
   "metadata": {},
   "outputs": [],
   "source": []
  },
  {
   "cell_type": "markdown",
   "metadata": {},
   "source": [
    "We can make copies of entire directories with the `.copytree()` method in the module. "
   ]
  },
  {
   "cell_type": "code",
   "execution_count": null,
   "metadata": {},
   "outputs": [],
   "source": []
  },
  {
   "cell_type": "markdown",
   "metadata": {},
   "source": [
    "Using the `os` module again, we can remove files, folders, and non-empty folders."
   ]
  },
  {
   "cell_type": "markdown",
   "metadata": {},
   "source": [
    "To delete a single file, we use `os.remove()`."
   ]
  },
  {
   "cell_type": "code",
   "execution_count": null,
   "metadata": {},
   "outputs": [],
   "source": []
  },
  {
   "cell_type": "markdown",
   "metadata": {},
   "source": [
    "We can delete empty folders using `os.rmdir()`"
   ]
  },
  {
   "cell_type": "code",
   "execution_count": null,
   "metadata": {},
   "outputs": [],
   "source": []
  },
  {
   "cell_type": "markdown",
   "metadata": {},
   "source": [
    "To delete a folder and all the files in it, we use `shutil.rmtree()`"
   ]
  },
  {
   "cell_type": "code",
   "execution_count": null,
   "metadata": {},
   "outputs": [],
   "source": []
  },
  {
   "cell_type": "markdown",
   "metadata": {},
   "source": [
    "If we want to list our files and folders, we can use `os.listdir()` and input the path of the folder you want to look into as a string as the argument. If you put in \".\" as the path, that will give you the current working directory. "
   ]
  },
  {
   "cell_type": "code",
   "execution_count": null,
   "metadata": {},
   "outputs": [],
   "source": []
  },
  {
   "cell_type": "code",
   "execution_count": null,
   "metadata": {},
   "outputs": [],
   "source": []
  },
  {
   "cell_type": "markdown",
   "metadata": {},
   "source": [
    "## Running External Programs from Python"
   ]
  },
  {
   "cell_type": "markdown",
   "metadata": {},
   "source": [
    "If we want to run external programs through Python, we use the `subprocess()` module. (Note that we are getting into tricky territory here. \n",
    "\n",
    "To run an external program, we use the `subprocess.run()` function. This function takes a single string argument containing the path to the executable (program) we want to run. \n",
    "\n",
    "Let's try it out with a bash shell command `ls` (which will list our directories and files). We add the second argument `shell=True` to let it know we are wanting it to run as a shell command. "
   ]
  },
  {
   "cell_type": "code",
   "execution_count": null,
   "metadata": {},
   "outputs": [],
   "source": []
  },
  {
   "cell_type": "code",
   "execution_count": null,
   "metadata": {},
   "outputs": [],
   "source": []
  },
  {
   "cell_type": "markdown",
   "metadata": {},
   "source": [
    "The output from the program will get printed to our screen. (Note we could have also passed it a list and executed a few commands). This returns the \"returncode\" of 0 to let us know it ran."
   ]
  },
  {
   "cell_type": "markdown",
   "metadata": {},
   "source": [
    "Let's run an external program (`ls` again) and store the output in a variable so we can do something useful with it later. For this, we'll use `subprocess.check_output()` which takes the same arguments as we saw with `subprocess.run()`. "
   ]
  },
  {
   "cell_type": "code",
   "execution_count": null,
   "metadata": {},
   "outputs": [],
   "source": []
  },
  {
   "cell_type": "code",
   "execution_count": null,
   "metadata": {},
   "outputs": [],
   "source": []
  },
  {
   "cell_type": "markdown",
   "metadata": {},
   "source": [
    "Notice that we got multiple lines separated by newline characters (`\\n`). "
   ]
  },
  {
   "cell_type": "markdown",
   "metadata": {},
   "source": [
    "## Taking User Input"
   ]
  },
  {
   "cell_type": "markdown",
   "metadata": {},
   "source": [
    "To interact with the program user and get their input, we can use the `input()` function. This function takes a string as its argument. \n",
    "\n",
    "This will get stored as a string and will have a newline character afte rit. So if you want a number, you can change the data type. And remember `.rstrip()` removes newlines if you don't want that."
   ]
  },
  {
   "cell_type": "code",
   "execution_count": null,
   "metadata": {},
   "outputs": [],
   "source": []
  },
  {
   "cell_type": "markdown",
   "metadata": {},
   "source": [
    "When we take input from the user, we open ourselves up to new and fun errors if they don't know they are supposed to input something or input it in the wrong format. So, it's a good idea to do input validation to make sure their input makes sense. \n",
    "\n",
    "This sort of \"defensive programming\" and testing is really important to creating quality code, and we'll come back to it! We'll learn exceptions later, and that will be a better way to check our user input."
   ]
  },
  {
   "cell_type": "markdown",
   "metadata": {},
   "source": [
    "We may also want to get input from the command line. This course won't go into the command line much, but here is how we can interact with command line arguments using the `sys` module. \n",
    "\n",
    "Let's say we were running a command line program called `my_program` and gave it a few arguments:\n",
    "\n",
    "`my_program one two three` \n",
    "\n",
    "We could get those arguments using `sys.argv`\n",
    "\n",
    "`import sys`\n",
    "\n",
    "`print(sys.argv)`\n",
    "\n",
    "This would return:\n",
    "\n",
    "`[my_program, one, two, three]`\n",
    "\n",
    "(It first returns the name of the program, then the arguments)"
   ]
  },
  {
   "cell_type": "markdown",
   "metadata": {
    "colab_type": "text",
    "id": "2xQnkglkz2Ux"
   },
   "source": [
    "# Independent Practice"
   ]
  },
  {
   "cell_type": "markdown",
   "metadata": {},
   "source": [
    "### Creating a FASTA file\n",
    "FASTA is a file format that is used to store DNA and protein sequence data. The header row has a greater than symbol and the accession name. There may be multiple sequences in one file.\n",
    "\n",
    "\\>sequence_one\n",
    "<br>\n",
    "GTTTCAAAGAT\n",
    "<br>\n",
    "\\>sequence_two\n",
    "<br>\n",
    "ATCAGATCGGA\n",
    "<br>\n",
    "\\>sequence_three\n",
    "<br>\n",
    "ACTGCATCGTACT\n",
    "\n",
    "\n",
    "Write a Python program that will make FASTA files for the following sequences. Make sure all are in uppercase letters.\n",
    "\n",
    "SEQ1: atcggccatctagccgg\n",
    "<br>\n",
    "SEQ2: ACTGTACATGTGCGCTAG\n",
    "<br>\n",
    "SEQ3: ccatctagcTGTAC"
   ]
  },
  {
   "cell_type": "code",
   "execution_count": null,
   "metadata": {},
   "outputs": [],
   "source": []
  },
  {
   "cell_type": "markdown",
   "metadata": {},
   "source": [
    "### Creating Multiple FASTA files\n",
    "Use the sequences from the previous exercises but instead create three new files in the FASTA format (one sequence per file). The names of the files will be the same as the sequence names and end in \".fasta\""
   ]
  },
  {
   "cell_type": "code",
   "execution_count": null,
   "metadata": {},
   "outputs": [],
   "source": []
  },
  {
   "cell_type": "markdown",
   "metadata": {},
   "source": [
    "### Pandas Practice: Importing and Inspecting Data"
   ]
  },
  {
   "cell_type": "markdown",
   "metadata": {},
   "source": [
    "Load the `drinks.csv` data.  \n",
    "\n",
    "Perform the following:  \n",
    "\n",
    "1. Print the head and tail.\n",
    "2. Look at the index, columns, dtypes, and shape.\n",
    "3. Assign the beer_servings column/Series to a variable.\n",
    "4. Calculate summary statistics for beer_servings.\n",
    "5. Calculate the mean of beer_servings.\n",
    "6. Count the values of unique categories in continent. (.value_counts)\n",
    "7. Print the dimensions of the drinks DataFrame.\n",
    "8. Find the first three items of the value counts of the occupation column."
   ]
  },
  {
   "cell_type": "code",
   "execution_count": null,
   "metadata": {},
   "outputs": [],
   "source": []
  },
  {
   "cell_type": "code",
   "execution_count": null,
   "metadata": {},
   "outputs": [],
   "source": []
  },
  {
   "cell_type": "code",
   "execution_count": null,
   "metadata": {},
   "outputs": [],
   "source": []
  },
  {
   "cell_type": "code",
   "execution_count": null,
   "metadata": {},
   "outputs": [],
   "source": []
  },
  {
   "cell_type": "code",
   "execution_count": null,
   "metadata": {},
   "outputs": [],
   "source": []
  },
  {
   "cell_type": "code",
   "execution_count": null,
   "metadata": {},
   "outputs": [],
   "source": []
  },
  {
   "cell_type": "code",
   "execution_count": null,
   "metadata": {},
   "outputs": [],
   "source": []
  },
  {
   "cell_type": "code",
   "execution_count": null,
   "metadata": {},
   "outputs": [],
   "source": []
  },
  {
   "cell_type": "code",
   "execution_count": null,
   "metadata": {},
   "outputs": [],
   "source": []
  },
  {
   "cell_type": "code",
   "execution_count": null,
   "metadata": {},
   "outputs": [],
   "source": []
  },
  {
   "cell_type": "code",
   "execution_count": null,
   "metadata": {},
   "outputs": [],
   "source": []
  },
  {
   "cell_type": "markdown",
   "metadata": {},
   "source": [
    "### Pandas Practice: Filtering "
   ]
  },
  {
   "cell_type": "markdown",
   "metadata": {},
   "source": [
    "#### Using the UFO data (\"ufo.csv\")\n",
    "\n",
    "1. Read in the data.\n",
    "2. Check the shape and describe the columns.\n",
    "3. Find the four most frequently reported colors.\n",
    "4. Find the most frequent city for reports in state VA.\n",
    "5. Find only UFO reports from Arlington, VA.\n",
    "6. Find the number of missing values in each column.\n",
    "7. Show only UFO reports where city is missing.\n",
    "8. Count the number of rows with no null values.\n",
    "9. Amend column names with spaces to have underscores.\n",
    "10. Make a new column that is a combination of city and state.\n",
    "\n",
    "\n",
    "**Bonus:** Drop rows where City or Shape Reported is missing."
   ]
  },
  {
   "cell_type": "code",
   "execution_count": null,
   "metadata": {},
   "outputs": [],
   "source": []
  },
  {
   "cell_type": "code",
   "execution_count": null,
   "metadata": {},
   "outputs": [],
   "source": []
  },
  {
   "cell_type": "code",
   "execution_count": null,
   "metadata": {},
   "outputs": [],
   "source": []
  },
  {
   "cell_type": "code",
   "execution_count": null,
   "metadata": {},
   "outputs": [],
   "source": []
  },
  {
   "cell_type": "code",
   "execution_count": null,
   "metadata": {},
   "outputs": [],
   "source": []
  },
  {
   "cell_type": "code",
   "execution_count": null,
   "metadata": {},
   "outputs": [],
   "source": []
  },
  {
   "cell_type": "code",
   "execution_count": null,
   "metadata": {},
   "outputs": [],
   "source": []
  },
  {
   "cell_type": "code",
   "execution_count": null,
   "metadata": {},
   "outputs": [],
   "source": []
  },
  {
   "cell_type": "code",
   "execution_count": null,
   "metadata": {},
   "outputs": [],
   "source": []
  },
  {
   "cell_type": "code",
   "execution_count": null,
   "metadata": {},
   "outputs": [],
   "source": []
  },
  {
   "cell_type": "code",
   "execution_count": null,
   "metadata": {},
   "outputs": [],
   "source": []
  },
  {
   "cell_type": "code",
   "execution_count": null,
   "metadata": {},
   "outputs": [],
   "source": []
  },
  {
   "cell_type": "code",
   "execution_count": null,
   "metadata": {},
   "outputs": [],
   "source": []
  },
  {
   "cell_type": "markdown",
   "metadata": {},
   "source": [
    "### Fire Ant DNA Sequences\n",
    "In the data folder there is a file called \"solenopsis_invicta.txt\" that contains genomic data from the Red Imported Fire Ant. Write out each DNA sequence into its own separate file. \n",
    "\n",
    "**Bonus:** one for sequences between 100 and 199 bases long, one for sequences between 200 and 299 bases long, etc. Write out each DNA sequence in the input files to a separate file in the appropriate folder.\n"
   ]
  },
  {
   "cell_type": "code",
   "execution_count": null,
   "metadata": {},
   "outputs": [],
   "source": []
  },
  {
   "cell_type": "code",
   "execution_count": null,
   "metadata": {},
   "outputs": [],
   "source": []
  },
  {
   "cell_type": "code",
   "execution_count": null,
   "metadata": {},
   "outputs": [],
   "source": []
  }
 ],
 "metadata": {
  "kernelspec": {
   "display_name": "Python 3",
   "language": "python",
   "name": "python3"
  },
  "language_info": {
   "codemirror_mode": {
    "name": "ipython",
    "version": 3
   },
   "file_extension": ".py",
   "mimetype": "text/x-python",
   "name": "python",
   "nbconvert_exporter": "python",
   "pygments_lexer": "ipython3",
   "version": "3.7.4"
  }
 },
 "nbformat": 4,
 "nbformat_minor": 2
}
