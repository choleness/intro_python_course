{
 "cells": [
  {
   "cell_type": "markdown",
   "metadata": {},
   "source": [
    "# Introduction to Python for Biology\n",
    "# Day 3"
   ]
  },
  {
   "cell_type": "markdown",
   "metadata": {},
   "source": [
    "# Code Along"
   ]
  },
  {
   "cell_type": "markdown",
   "metadata": {},
   "source": [
    "## Special Characters"
   ]
  },
  {
   "cell_type": "markdown",
   "metadata": {},
   "source": [
    "If we want to add a new line when we print something out, we'll have to use a special character `\\n`"
   ]
  },
  {
   "cell_type": "code",
   "execution_count": null,
   "metadata": {},
   "outputs": [],
   "source": []
  },
  {
   "cell_type": "markdown",
   "metadata": {},
   "source": [
    "There are some other special characters that we use when working with strings in Python. They all have the backslash followed by a letter. For example, you may also use the `\\t` (tab) character. Note that we don't have to add spaces in between."
   ]
  },
  {
   "cell_type": "code",
   "execution_count": null,
   "metadata": {},
   "outputs": [],
   "source": []
  },
  {
   "cell_type": "markdown",
   "metadata": {},
   "source": [
    "## String Manipulation"
   ]
  },
  {
   "cell_type": "markdown",
   "metadata": {},
   "source": [
    "If we want to glue together two strings, we can **concatenate** them using the `+` (plus) symbol."
   ]
  },
  {
   "cell_type": "code",
   "execution_count": null,
   "metadata": {},
   "outputs": [],
   "source": []
  },
  {
   "cell_type": "markdown",
   "metadata": {},
   "source": [
    "We often concatenate in a print statement (you can sometimes also use commas)."
   ]
  },
  {
   "cell_type": "code",
   "execution_count": null,
   "metadata": {},
   "outputs": [],
   "source": []
  },
  {
   "cell_type": "markdown",
   "metadata": {},
   "source": [
    "Like we saw with lists yesterday, strings have a lot of built-in methods (functions that go along with them). Remember string methods show up after the name of the string variable and have parentheses after them. \n",
    "\n",
    "\n",
    "For example, there is a method `.lower()` that will change a string to all lowercase letters. This doesn't change the original variable. It returns a copy of the variable in lower case (that you can save to a new variable)."
   ]
  },
  {
   "cell_type": "code",
   "execution_count": null,
   "metadata": {},
   "outputs": [],
   "source": []
  },
  {
   "cell_type": "code",
   "execution_count": null,
   "metadata": {},
   "outputs": [],
   "source": []
  },
  {
   "cell_type": "markdown",
   "metadata": {},
   "source": [
    "Another useful string manipulation method is `.replace()`. It takes two arguments (both strings) and will return a copy of the original variable (so save it if you want to use it again)."
   ]
  },
  {
   "cell_type": "code",
   "execution_count": null,
   "metadata": {},
   "outputs": [],
   "source": []
  },
  {
   "cell_type": "code",
   "execution_count": null,
   "metadata": {},
   "outputs": [],
   "source": []
  },
  {
   "cell_type": "markdown",
   "metadata": {},
   "source": [
    "Remember how we pulled out items from a list yesterday using their indices? We can do the same with a string to extract a substring. Remember that Python starts counting at 0."
   ]
  },
  {
   "cell_type": "code",
   "execution_count": null,
   "metadata": {},
   "outputs": [],
   "source": []
  },
  {
   "cell_type": "code",
   "execution_count": null,
   "metadata": {},
   "outputs": [],
   "source": []
  },
  {
   "cell_type": "markdown",
   "metadata": {},
   "source": [
    "If we don't include a second number, we'll get all of the letters up until the end of the string."
   ]
  },
  {
   "cell_type": "code",
   "execution_count": null,
   "metadata": {},
   "outputs": [],
   "source": []
  },
  {
   "cell_type": "markdown",
   "metadata": {},
   "source": [
    "Often we will need to count the number of times some pattern in a string occurs in biology. `.count()` can help us count how many times a substring occurs in a string. It takes the substring as an argument and returns a number."
   ]
  },
  {
   "cell_type": "code",
   "execution_count": null,
   "metadata": {},
   "outputs": [],
   "source": []
  },
  {
   "cell_type": "code",
   "execution_count": null,
   "metadata": {},
   "outputs": [],
   "source": []
  },
  {
   "cell_type": "markdown",
   "metadata": {},
   "source": [
    "If we want to find the location of the substrings, we can use `.find()`. It takes a single string argument and returns a number that is the position that substring first appears in the string. "
   ]
  },
  {
   "cell_type": "code",
   "execution_count": null,
   "metadata": {},
   "outputs": [],
   "source": []
  },
  {
   "cell_type": "code",
   "execution_count": null,
   "metadata": {},
   "outputs": [],
   "source": []
  },
  {
   "cell_type": "markdown",
   "metadata": {},
   "source": [
    "Both `.count()` and `.find()` can only find exact matches. This doesn't work great for variable site pattern searches, but we'll learn regular expressions later (which will help us with that)."
   ]
  },
  {
   "cell_type": "markdown",
   "metadata": {},
   "source": [
    "Another thing that we might want to do with strings is split them up into pieces. We can split a string into items in a list using `.split()` and then be able to iterate over it. `.split()` takes a single argument which is the character we want to split on (we call this the **delimiter.**)"
   ]
  },
  {
   "cell_type": "code",
   "execution_count": 26,
   "metadata": {},
   "outputs": [],
   "source": [
    "words = \"red,green,blue,yellow\""
   ]
  },
  {
   "cell_type": "code",
   "execution_count": null,
   "metadata": {},
   "outputs": [],
   "source": []
  },
  {
   "cell_type": "code",
   "execution_count": null,
   "metadata": {},
   "outputs": [],
   "source": []
  },
  {
   "cell_type": "markdown",
   "metadata": {},
   "source": [
    "## Reading Text from a File"
   ]
  },
  {
   "cell_type": "markdown",
   "metadata": {},
   "source": [
    "As biologists, we often need to read in text from a file as part of a pipeline. Let's learn how to use Python to interact with files we have.\n",
    "\n",
    "What kinds of text files do you use in your work? How is the data formatted? "
   ]
  },
  {
   "cell_type": "markdown",
   "metadata": {},
   "source": [
    "Before we can read a file, we have to open it. This creates a file object that we can give a variable name. "
   ]
  },
  {
   "cell_type": "code",
   "execution_count": null,
   "metadata": {},
   "outputs": [],
   "source": []
  },
  {
   "cell_type": "markdown",
   "metadata": {},
   "source": [
    "Once we've opened the file, we can read it and then treat it sort of like a string. These file contents are different than the file object and from the name of the file. Confusing these is a common cause of errors."
   ]
  },
  {
   "cell_type": "code",
   "execution_count": null,
   "metadata": {},
   "outputs": [],
   "source": []
  },
  {
   "cell_type": "code",
   "execution_count": null,
   "metadata": {},
   "outputs": [],
   "source": []
  },
  {
   "cell_type": "markdown",
   "metadata": {},
   "source": [
    "We have newlines at the end of a file we read in, and we can strip them off using the `.rstrip()` method which takes the character you'd like to remove as its argument."
   ]
  },
  {
   "cell_type": "code",
   "execution_count": null,
   "metadata": {},
   "outputs": [],
   "source": []
  },
  {
   "cell_type": "markdown",
   "metadata": {},
   "source": [
    "Commonly, we'll do this all in one line. You can string together Python methods. \n",
    "\n",
    "What is the best way to write it? The easiest way for you to understand and read it. If it makes more sense for you to write it out line by line for readability, go ahead. I often write my code line by line to start with and shorten it up in future passes. "
   ]
  },
  {
   "cell_type": "code",
   "execution_count": null,
   "metadata": {},
   "outputs": [],
   "source": []
  },
  {
   "cell_type": "markdown",
   "metadata": {},
   "source": [
    "## Iterating Over Lines of Text in a File"
   ]
  },
  {
   "cell_type": "markdown",
   "metadata": {},
   "source": [
    "Remember loops? We can treat file objects like lists and loop over them, with every line as an individual element. This is super useful if we need to process a file line by line.\n",
    "\n",
    "Make sure you loop over the file object, not the contents of the file (that you got from `.read()`. You'll know you've messed this up if you just get a single character for each line. It is helpful to ask yourself if you want to read your file in as one big chunk (in which case you use use `.read()`) or if you want to read your file in line by line (in which case you should loop over the file object)."
   ]
  },
  {
   "cell_type": "code",
   "execution_count": null,
   "metadata": {},
   "outputs": [],
   "source": []
  },
  {
   "cell_type": "markdown",
   "metadata": {},
   "source": [
    "Another thing to watch out for is looping over the same file object twice. You may have run into this before if you tried to rerun code from above because file objects are exhaustible. Python remembers that it is at the end of the file once you've looped over it, so it lets you know there are no more lines. You can close and reopen the file if you want to loop over it again or (better idea) you can read the contents into a list and iterate over the list multiple times without a problem. \n",
    "\n",
    "The `.readlines()` method, which is used on file objects, will read the lines of a file into a list."
   ]
  },
  {
   "cell_type": "markdown",
   "metadata": {},
   "source": [
    "First we will store a list of lines in the file."
   ]
  },
  {
   "cell_type": "code",
   "execution_count": null,
   "metadata": {},
   "outputs": [],
   "source": []
  },
  {
   "cell_type": "markdown",
   "metadata": {},
   "source": [
    "Then we can do stuff with the list by looping over it."
   ]
  },
  {
   "cell_type": "code",
   "execution_count": null,
   "metadata": {},
   "outputs": [],
   "source": []
  },
  {
   "cell_type": "code",
   "execution_count": null,
   "metadata": {},
   "outputs": [],
   "source": []
  },
  {
   "cell_type": "markdown",
   "metadata": {},
   "source": [
    "## Writing to a File"
   ]
  },
  {
   "cell_type": "markdown",
   "metadata": {},
   "source": [
    "Let's take a moment and look at the Python documentation (either by Googling or by using cmd/ctrl + tab) to try to figure out how to use the `open()` function to write to a file. \n",
    "\n",
    "We see that we can use the second (optional) argument version of the `open()` function and use \"w\" for writing. \n",
    "\n",
    "This second argument can be \"r\" for reading (it is this by default if we leave it off), \"w\" for writing\", or \"a\" for appending. \"w\" will overwrite an existing file, while \"a\" will add new data to the end of the file without removing content. (If the file doesn't exist, both \"w\" and \"a\" do the same thing). "
   ]
  },
  {
   "cell_type": "code",
   "execution_count": null,
   "metadata": {},
   "outputs": [],
   "source": []
  },
  {
   "cell_type": "markdown",
   "metadata": {},
   "source": [
    "Now that we've opened a file for writing, we can use the `.write()` method to write some text to it. This method is a lot like print and takes a string as an argument. (It can also take any function that would return a string.)"
   ]
  },
  {
   "cell_type": "code",
   "execution_count": null,
   "metadata": {},
   "outputs": [],
   "source": []
  },
  {
   "cell_type": "markdown",
   "metadata": {},
   "source": [
    "If we check the folder we are currently working in, we can see we now have a new file with the name we gave it. Let's open it and check the file contents. "
   ]
  },
  {
   "cell_type": "markdown",
   "metadata": {},
   "source": [
    "## Closing Files"
   ]
  },
  {
   "cell_type": "markdown",
   "metadata": {},
   "source": [
    "We'll also need to call the `.close()` method on the file when we are done reading to it or writing to it. (Note that `.close()` is a method and `open()` is a function). This will be a good habit to have and will prevent errors that are hard to track down. "
   ]
  },
  {
   "cell_type": "code",
   "execution_count": null,
   "metadata": {},
   "outputs": [],
   "source": []
  },
  {
   "cell_type": "code",
   "execution_count": null,
   "metadata": {},
   "outputs": [],
   "source": []
  },
  {
   "cell_type": "code",
   "execution_count": null,
   "metadata": {},
   "outputs": [],
   "source": []
  },
  {
   "cell_type": "markdown",
   "metadata": {},
   "source": [
    "## Taking User Input"
   ]
  },
  {
   "cell_type": "markdown",
   "metadata": {},
   "source": [
    "To interact with the program user and get their input, we can use the `input()` function. This function takes a string as its argument. \n",
    "\n",
    "This will get stored as a string and will have a newline character afte rit. So if you want a number, you can change the data type. And remember `.rstrip()` removes newlines if you don't want that."
   ]
  },
  {
   "cell_type": "code",
   "execution_count": null,
   "metadata": {},
   "outputs": [],
   "source": []
  },
  {
   "cell_type": "markdown",
   "metadata": {},
   "source": [
    "When we take input from the user, we open ourselves up to new and fun errors if they don't know they are supposed to input something or input it in the wrong format. So, it's a good idea to do input validation to make sure their input makes sense. \n",
    "\n",
    "This sort of \"defensive programming\" and testing is really important to creating quality code, and we'll come back to it! We'll learn exceptions later, and that will be a better way to check our user input."
   ]
  },
  {
   "cell_type": "markdown",
   "metadata": {
    "colab_type": "text",
    "id": "2xQnkglkz2Ux"
   },
   "source": [
    "# Independent Practice"
   ]
  },
  {
   "cell_type": "markdown",
   "metadata": {},
   "source": [
    "### Creating a FASTA file\n",
    "FASTA is a file format that is used to store DNA and protein sequence data. The header row has a greater than symbol and the accession name. There may be multiple sequences in one file.\n",
    "\n",
    "\\>sequence_one\n",
    "<br>\n",
    "GTTTCAAAGAT\n",
    "<br>\n",
    "\\>sequence_two\n",
    "<br>\n",
    "ATCAGATCGGA\n",
    "<br>\n",
    "\\>sequence_three\n",
    "<br>\n",
    "ACTGCATCGTACT\n",
    "\n",
    "\n",
    "Write a Python program that will make FASTA files for the following sequences. Make sure all are in uppercase letters.\n",
    "\n",
    "SEQ1: atcggccatctagccgg\n",
    "<br>\n",
    "SEQ2: ACTGTACATGTGCGCTAG\n",
    "<br>\n",
    "SEQ3: ccatctagcTGTAC"
   ]
  },
  {
   "cell_type": "code",
   "execution_count": null,
   "metadata": {},
   "outputs": [],
   "source": []
  },
  {
   "cell_type": "markdown",
   "metadata": {},
   "source": [
    "### Creating Multiple FASTA files\n",
    "Use the sequences from the previous exercises but instead create three new files in the FASTA format (one sequence per file). The names of the files will be the same as the sequence names and end in \".fasta\""
   ]
  },
  {
   "cell_type": "code",
   "execution_count": null,
   "metadata": {},
   "outputs": [],
   "source": []
  },
  {
   "cell_type": "markdown",
   "metadata": {},
   "source": [
    "### Bonus Problem: Fire Ant DNA Sequences\n",
    "In the data folder there is a file called \"test_ant.txt\" that contains genomic data from the Red Imported Fire Ant. Write out each DNA sequence into its own separate file. "
   ]
  },
  {
   "cell_type": "code",
   "execution_count": null,
   "metadata": {},
   "outputs": [],
   "source": []
  },
  {
   "cell_type": "code",
   "execution_count": null,
   "metadata": {},
   "outputs": [],
   "source": []
  },
  {
   "cell_type": "code",
   "execution_count": null,
   "metadata": {},
   "outputs": [],
   "source": []
  }
 ],
 "metadata": {
  "kernelspec": {
   "display_name": "Python 3",
   "language": "python",
   "name": "python3"
  },
  "language_info": {
   "codemirror_mode": {
    "name": "ipython",
    "version": 3
   },
   "file_extension": ".py",
   "mimetype": "text/x-python",
   "name": "python",
   "nbconvert_exporter": "python",
   "pygments_lexer": "ipython3",
   "version": "3.7.4"
  }
 },
 "nbformat": 4,
 "nbformat_minor": 2
}
