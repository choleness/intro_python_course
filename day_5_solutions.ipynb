{
 "cells": [
  {
   "cell_type": "markdown",
   "metadata": {},
   "source": [
    "# Introduction to Python for Biology\n",
    "# Day 5"
   ]
  },
  {
   "cell_type": "markdown",
   "metadata": {},
   "source": [
    "# Code Along"
   ]
  },
  {
   "cell_type": "markdown",
   "metadata": {},
   "source": [
    "## Regular Expressions"
   ]
  },
  {
   "cell_type": "markdown",
   "metadata": {},
   "source": [
    "### Basic Patterns"
   ]
  },
  {
   "cell_type": "markdown",
   "metadata": {},
   "source": [
    "Although we looked at some string manipulation tools in Python that help us look for fixed patterns, regular expressions offer us a lot more flexibility. "
   ]
  },
  {
   "cell_type": "markdown",
   "metadata": {},
   "source": [
    "Remember how we used special characters when we learned about string manipulation (e.g. \\n, \\t)? We can put an `r` (stands for raw string literal) in front of a string (outside the quotes) in Python to make sure the string ignores the special characters. We'll need this so that the special characters that regular expressions use don't end up clashing with those that have special meaning for strings. \n",
    "\n",
    "A backslash goes back to being a backslash when we prefix it with `r` and will get stored literally as they appear. "
   ]
  },
  {
   "cell_type": "code",
   "execution_count": 2,
   "metadata": {},
   "outputs": [
    {
     "name": "stdout",
     "output_type": "stream",
     "text": [
      "\\t\\n\n"
     ]
    }
   ],
   "source": [
    "print(r\"\\t\\n\")"
   ]
  },
  {
   "cell_type": "markdown",
   "metadata": {},
   "source": [
    "The module `re` allows us to use regular expressions in Python."
   ]
  },
  {
   "cell_type": "code",
   "execution_count": 1,
   "metadata": {},
   "outputs": [],
   "source": [
    "import re"
   ]
  },
  {
   "cell_type": "markdown",
   "metadata": {},
   "source": [
    "We can use the search method to look for a pattern in a string using `re.search()`. This will act like it is True or a False to let us know whether it found the pattern in the string. (Really it is returning a match object, but we'll get more into that later).\n",
    "\n",
    "This method takes two arguments, the pattern you want to search for (as a string) and the string you want to search in. "
   ]
  },
  {
   "cell_type": "markdown",
   "metadata": {},
   "source": [
    "We can use string characters to find an exact match. "
   ]
  },
  {
   "cell_type": "code",
   "execution_count": 10,
   "metadata": {},
   "outputs": [
    {
     "name": "stdout",
     "output_type": "stream",
     "text": [
      "Match!\n"
     ]
    }
   ],
   "source": [
    "# not we don't strictly need the raw notation for this pattern string (but this is good practice)\n",
    "sequence = \"python\"\n",
    "pattern = r\"python\"\n",
    "if re.match(pattern, sequence):\n",
    "    print(\"Match!\")\n",
    "else: \n",
    "    print(\"Not a match!\")"
   ]
  },
  {
   "cell_type": "markdown",
   "metadata": {},
   "source": [
    "`re.match()` only matches from the beginning of the string"
   ]
  },
  {
   "cell_type": "code",
   "execution_count": 11,
   "metadata": {},
   "outputs": [
    {
     "name": "stdout",
     "output_type": "stream",
     "text": [
      "Not a match!\n"
     ]
    }
   ],
   "source": [
    "sequence = \"python\"\n",
    "pattern = r\"y\"\n",
    "if re.match(pattern, sequence):\n",
    "    print(\"Match!\")\n",
    "else: \n",
    "    print(\"Not a match!\")"
   ]
  },
  {
   "cell_type": "markdown",
   "metadata": {},
   "source": [
    "### Wild Card "
   ]
  },
  {
   "cell_type": "markdown",
   "metadata": {},
   "source": [
    "Regular expressions use a set of special characters that don't literally match themselves but can be used as flexible search wildcards.\n",
    "\n",
    "Here is a good cheatsheet: https://www.dataquest.io/wp-content/uploads/2019/03/python-regular-expressions-cheat-sheet.pdf\n",
    "\n",
    "For example, `.` can match any single character except a newline character."
   ]
  },
  {
   "cell_type": "markdown",
   "metadata": {},
   "source": [
    "This time let's try out the method `re.search()` which will scan the string for the first instance of that pattern (if it exists). If the pattern exists, it will return something called a **MatchObject**. If not, it will return `None`. \n",
    "\n",
    "If we also tack on the `.group()` it will return the string matched."
   ]
  },
  {
   "cell_type": "code",
   "execution_count": 32,
   "metadata": {},
   "outputs": [
    {
     "data": {
      "text/plain": [
       "'python'"
      ]
     },
     "execution_count": 32,
     "metadata": {},
     "output_type": "execute_result"
    }
   ],
   "source": [
    "re.search(r\"p.thon\", \"python\").group()"
   ]
  },
  {
   "cell_type": "markdown",
   "metadata": {},
   "source": [
    "`\\w` will match any single digit, letter, or underscore. If we use the uppercase (`\\W`) it will search for the inverse (any character that is not a digit, letter, or underscore). "
   ]
  },
  {
   "cell_type": "code",
   "execution_count": 33,
   "metadata": {},
   "outputs": [
    {
     "data": {
      "text/plain": [
       "'python'"
      ]
     },
     "execution_count": 33,
     "metadata": {},
     "output_type": "execute_result"
    }
   ],
   "source": [
    "re.search(r\"p\\wthon\", \"python\").group()"
   ]
  },
  {
   "cell_type": "code",
   "execution_count": 34,
   "metadata": {},
   "outputs": [
    {
     "data": {
      "text/plain": [
       "'p&thon'"
      ]
     },
     "execution_count": 34,
     "metadata": {},
     "output_type": "execute_result"
    }
   ],
   "source": [
    "re.search(r\"p\\Wthon\", \"p&thon\").group()"
   ]
  },
  {
   "cell_type": "markdown",
   "metadata": {},
   "source": [
    "`\\s` will match any whitespace character (like a space, newline, or return). \n",
    "\n",
    "`\\S` matches the inverse of this (any character that is not a whitespace character).\n",
    "\n",
    "`\\t` matches tabs.\n",
    "\n",
    "`\\n` matches newlines.\n",
    "\n",
    "`\\r` matches return."
   ]
  },
  {
   "cell_type": "code",
   "execution_count": 35,
   "metadata": {},
   "outputs": [
    {
     "data": {
      "text/plain": [
       "'transmitting science'"
      ]
     },
     "execution_count": 35,
     "metadata": {},
     "output_type": "execute_result"
    }
   ],
   "source": [
    "re.search(r\"transmitting\\sscience\", \"transmitting science\").group()"
   ]
  },
  {
   "cell_type": "markdown",
   "metadata": {},
   "source": [
    "`\\d` will match any decimal (0-9)."
   ]
  },
  {
   "cell_type": "code",
   "execution_count": 37,
   "metadata": {},
   "outputs": [
    {
     "data": {
      "text/plain": [
       "'893-483-3847'"
      ]
     },
     "execution_count": 37,
     "metadata": {},
     "output_type": "execute_result"
    }
   ],
   "source": [
    "re.search(r\"\\d\\d\\d-\\d\\d\\d-\\d\\d\\d\\d\", \"phone: 893-483-3847\").group()"
   ]
  },
  {
   "cell_type": "markdown",
   "metadata": {},
   "source": [
    "`^` (carat) will match a pattern at the start of the string.\n",
    "\n",
    "`$` will match a pattern at the end of the string."
   ]
  },
  {
   "cell_type": "code",
   "execution_count": 38,
   "metadata": {},
   "outputs": [
    {
     "data": {
      "text/plain": [
       "'To'"
      ]
     },
     "execution_count": 38,
     "metadata": {},
     "output_type": "execute_result"
    }
   ],
   "source": [
    "re.search(r\"^To\", \"To be or not to be\").group()"
   ]
  },
  {
   "cell_type": "code",
   "execution_count": 41,
   "metadata": {},
   "outputs": [
    {
     "data": {
      "text/plain": [
       "'be'"
      ]
     },
     "execution_count": 41,
     "metadata": {},
     "output_type": "execute_result"
    }
   ],
   "source": [
    "re.search(r\"be$\", \"To be or not to be\").group()"
   ]
  },
  {
   "cell_type": "markdown",
   "metadata": {},
   "source": [
    "If we put the pattern in square brackets, we can search for any of those characters. This acts like \"or\" did before."
   ]
  },
  {
   "cell_type": "code",
   "execution_count": 43,
   "metadata": {},
   "outputs": [
    {
     "data": {
      "text/plain": [
       "'Number: 5'"
      ]
     },
     "execution_count": 43,
     "metadata": {},
     "output_type": "execute_result"
    }
   ],
   "source": [
    "re.search(r'Number: [0-6]', 'Number: 5').group()"
   ]
  },
  {
   "cell_type": "markdown",
   "metadata": {},
   "source": [
    "`\\b` will match only at the beginning or ending of a word"
   ]
  },
  {
   "cell_type": "code",
   "execution_count": 44,
   "metadata": {},
   "outputs": [
    {
     "data": {
      "text/plain": [
       "'A'"
      ]
     },
     "execution_count": 44,
     "metadata": {},
     "output_type": "execute_result"
    }
   ],
   "source": [
    "re.search(r'\\b[AEIOU]', 'Alphabet').group()"
   ]
  },
  {
   "cell_type": "markdown",
   "metadata": {},
   "source": [
    "What if we wanted to search for something that is a special character (literally?) We can use `\\` (backslash) to escape the character and treat it like any other non-special character."
   ]
  },
  {
   "cell_type": "code",
   "execution_count": 53,
   "metadata": {},
   "outputs": [
    {
     "data": {
      "text/plain": [
       "' '"
      ]
     },
     "execution_count": 53,
     "metadata": {},
     "output_type": "execute_result"
    }
   ],
   "source": [
    "# This treats '\\s' as an escape character because it lacks '\\' at the start of '\\s'\n",
    "re.search(r'\\s', ' ').group()"
   ]
  },
  {
   "cell_type": "code",
   "execution_count": 52,
   "metadata": {},
   "outputs": [
    {
     "data": {
      "text/plain": [
       "'\\\\s'"
      ]
     },
     "execution_count": 52,
     "metadata": {},
     "output_type": "execute_result"
    }
   ],
   "source": [
    "# This checks for '\\' in the string instead of '\\t' due to the '\\' used \n",
    "re.search(r'\\\\s', '\\s').group()"
   ]
  },
  {
   "cell_type": "markdown",
   "metadata": {},
   "source": [
    "### Repetitions"
   ]
  },
  {
   "cell_type": "markdown",
   "metadata": {},
   "source": [
    "If we want to check for more than one instance of the character, we can use characters to indicate that the type of character might repeat instead of repeating the special character.\n",
    "\n",
    "`+` looks for one or more of the characters \n",
    "\n",
    "`*` looks for zero or more of the characters\n",
    "\n",
    "(Both of these qualifiers are known as **greedy** because they will match as much of the search string as posisble.)"
   ]
  },
  {
   "cell_type": "code",
   "execution_count": 55,
   "metadata": {},
   "outputs": [
    {
     "data": {
      "text/plain": [
       "'893-483-3847'"
      ]
     },
     "execution_count": 55,
     "metadata": {},
     "output_type": "execute_result"
    }
   ],
   "source": [
    "re.search(r\"\\d\\d\\d-\\d\\d\\d-\\d\\d\\d\\d\", \"phone: 893-483-3847\").group()"
   ]
  },
  {
   "cell_type": "code",
   "execution_count": 57,
   "metadata": {},
   "outputs": [
    {
     "data": {
      "text/plain": [
       "'893-483-3847'"
      ]
     },
     "execution_count": 57,
     "metadata": {},
     "output_type": "execute_result"
    }
   ],
   "source": [
    "re.search(r\"\\d+-\\d+-\\d+\", \"phone: 893-483-3847\").group()"
   ]
  },
  {
   "cell_type": "code",
   "execution_count": 58,
   "metadata": {},
   "outputs": [
    {
     "data": {
      "text/plain": [
       "'bo'"
      ]
     },
     "execution_count": 58,
     "metadata": {},
     "output_type": "execute_result"
    }
   ],
   "source": [
    "re.search(r\"bo*\", \"bo boooo boooo booooooooo b\").group()"
   ]
  },
  {
   "cell_type": "code",
   "execution_count": 59,
   "metadata": {},
   "outputs": [
    {
     "data": {
      "text/plain": [
       "'booooooooo'"
      ]
     },
     "execution_count": 59,
     "metadata": {},
     "output_type": "execute_result"
    }
   ],
   "source": [
    "re.search(r\"bo*\", \"booooooooo\").group()"
   ]
  },
  {
   "cell_type": "code",
   "execution_count": 60,
   "metadata": {},
   "outputs": [
    {
     "data": {
      "text/plain": [
       "'b'"
      ]
     },
     "execution_count": 60,
     "metadata": {},
     "output_type": "execute_result"
    }
   ],
   "source": [
    "re.search(r\"bo*\", \"b\").group()"
   ]
  },
  {
   "cell_type": "markdown",
   "metadata": {},
   "source": [
    "But sometimes a greedy match is not what we want and we only want to mattch the first instance of the pattern. \n",
    "\n",
    "`*?` matches as little of the text as possible\n",
    "\n",
    "`?` is a greedy qualifier that check for exactly zero or one of the character."
   ]
  },
  {
   "cell_type": "code",
   "execution_count": 61,
   "metadata": {},
   "outputs": [
    {
     "data": {
      "text/plain": [
       "'b'"
      ]
     },
     "execution_count": 61,
     "metadata": {},
     "output_type": "execute_result"
    }
   ],
   "source": [
    "re.search(r\"bo*?\", \"booooooooo\").group()"
   ]
  },
  {
   "cell_type": "markdown",
   "metadata": {},
   "source": [
    "Or in cases where we want to check for an exact number of a pattern's repetition, we can indicate that too.\n",
    "\n",
    "`{x}` checks for when it repeats exactly x number of times\n",
    "\n",
    "`{x,}`  checks for when it repeats at least x times or more\n",
    "\n",
    "`{x, y}`  checks for when it repeats at least x times but no more than y times"
   ]
  },
  {
   "cell_type": "code",
   "execution_count": 62,
   "metadata": {},
   "outputs": [
    {
     "data": {
      "text/plain": [
       "'893-483-3847'"
      ]
     },
     "execution_count": 62,
     "metadata": {},
     "output_type": "execute_result"
    }
   ],
   "source": [
    "re.search(r\"\\d{3}-\\d{3,}-\\d{3,4}\", \"phone: 893-483-3847\").group()"
   ]
  },
  {
   "cell_type": "markdown",
   "metadata": {},
   "source": [
    "### Splitting Strings with RegEx"
   ]
  },
  {
   "cell_type": "markdown",
   "metadata": {},
   "source": [
    "In an earlier lesson, we used the `.split()` string method to use delimeters to split strings. We can combine this with the power of regular expressions to customize what we want to split on. The `.split()` method doesn't actually allow us to use regulare expressions, but the `re` module has a `.split` method we can use for this. We will input the pattern as the first argument and the string to be split as the second argument.  "
   ]
  },
  {
   "cell_type": "code",
   "execution_count": 72,
   "metadata": {},
   "outputs": [
    {
     "name": "stdout",
     "output_type": "stream",
     "text": [
      "['2', '19', '1876, 3', '23', '1856, 2', '23', '1865']\n"
     ]
    }
   ],
   "source": [
    "d = \"2.19.1876, 3-23-1856, 2/23/1865\"\n",
    "dates = re.split(r\"[\\./-]\", d)\n",
    "print(dates)"
   ]
  },
  {
   "cell_type": "markdown",
   "metadata": {},
   "source": [
    "### Grouping for Multiple Groups"
   ]
  },
  {
   "cell_type": "markdown",
   "metadata": {},
   "source": [
    "We can also pull out parts of a matching text using the group feature. Using `.group()` with a number in the parentheses. We've been using it without a number in the parentheses, which returns the whole matched text. \n",
    "\n",
    "To capture different parts of the text in our pattern, we will surround it with parentheses in the pattern string. Then group(1) will match the first pattern we captured, group(2) will capture the second, etc. "
   ]
  },
  {
   "cell_type": "code",
   "execution_count": 75,
   "metadata": {},
   "outputs": [
    {
     "name": "stdout",
     "output_type": "stream",
     "text": [
      "nichole.lynn.bennett@gmail.com\n",
      "nichole.lynn.bennett\n",
      "gmail.com\n"
     ]
    }
   ],
   "source": [
    "email = \"You can reach me at nichole.lynn.bennett@gmail.com\"\n",
    "match = re.search(r'([\\w\\.-]+)@([\\w\\.-]+)', email)\n",
    "if match:\n",
    "  print(match.group()) # The whole matched text\n",
    "  print(match.group(1)) # The username (group 1)\n",
    "  print(match.group(2)) # The host (group 2)"
   ]
  },
  {
   "cell_type": "markdown",
   "metadata": {},
   "source": [
    "### Getting Match Positions"
   ]
  },
  {
   "cell_type": "markdown",
   "metadata": {},
   "source": [
    "We can also pull out information about the position of the match using the `.start()` and `.end()` methods. Don't forget that Python starts counting at zero. "
   ]
  },
  {
   "cell_type": "code",
   "execution_count": 76,
   "metadata": {},
   "outputs": [
    {
     "name": "stdout",
     "output_type": "stream",
     "text": [
      "number!\n",
      "at position 3\n"
     ]
    }
   ],
   "source": [
    "name = \"aaa9adkien3alsdk389\" \n",
    "m = re.search(r\"[\\d]\", name) \n",
    "\n",
    "if m: \n",
    "    print(\"number!\") \n",
    "    print(\"at position \" + str(m.start()))"
   ]
  },
  {
   "cell_type": "markdown",
   "metadata": {},
   "source": [
    "### Getting Multiple Matches"
   ]
  },
  {
   "cell_type": "markdown",
   "metadata": {},
   "source": [
    "In the example above, we could only find the first match because `.search()` can only give us one match. If we want to process multiple matches, we can use `re.finditer()`, which will give us a list of match objects we can process using our knowledge of looping. "
   ]
  },
  {
   "cell_type": "code",
   "execution_count": 79,
   "metadata": {},
   "outputs": [
    {
     "name": "stdout",
     "output_type": "stream",
     "text": [
      "9 found at position 3\n",
      "3 found at position 10\n",
      "3 found at position 16\n",
      "8 found at position 17\n",
      "9 found at position 18\n"
     ]
    }
   ],
   "source": [
    "name = \"aaa9adkien3alsdk389\" \n",
    "matches = re.finditer(r\"[\\d]\", name) \n",
    "for m in matches: \n",
    "    base = m.group() \n",
    "    pos  = m.start() \n",
    "    print(base + \" found at position \" + str(pos))"
   ]
  },
  {
   "cell_type": "markdown",
   "metadata": {},
   "source": [
    "We can also return a list of all of the parts of the searched string that match a given pattern using the `re.findall()` module. It will return a list of strings (instead of a match object). "
   ]
  },
  {
   "cell_type": "code",
   "execution_count": 80,
   "metadata": {},
   "outputs": [
    {
     "name": "stdout",
     "output_type": "stream",
     "text": [
      "['9', '3', '3', '8', '9']\n"
     ]
    }
   ],
   "source": [
    "name = \"aaa9adkien3alsdk389\" \n",
    "result = re.findall(r\"\\d\", name) \n",
    "print(result)"
   ]
  },
  {
   "cell_type": "markdown",
   "metadata": {},
   "source": [
    "### `re` Module Methods"
   ]
  },
  {
   "cell_type": "markdown",
   "metadata": {},
   "source": [
    "`re.search(pattern, string, flags=0)` find the first location where there is a match, returns a match object if found, `None` if not (anywhere in the string)\n",
    "\n",
    "`re.match(pattern, string, flags=0)` returns a match object if the pattern matches the beginning of the string, else it returns `None` (only at the start of the string)\n",
    "\n",
    "`re.findall(pattern, string, flags=0)` finds all possible matches in the string and returns them as a list of string\n",
    "\n",
    "`re.sub(pattern, repl, string, count=0, flags=0)` returns a new string where the leftmost non-overlapping instance of the pattern is replaced by the string in the `repl` argument. If the pattern is not found, it returns the original string. \n",
    "\n",
    "`re.compile(pattern, flags=0)` will compile a regular expression object. This is useful when you need to use the same regular expression several times in a single program. \n",
    "\n",
    "You can modify any of these methods using the `flags` argument. Some of the flags used are: IGNORECASE, DOTALL, MULTILINE, VERBOSE, etc."
   ]
  },
  {
   "cell_type": "markdown",
   "metadata": {},
   "source": [
    "Some next steps to look into on your journey with regular expressions (that we won't have to cover today) are lookahead and lookbehind assertions. "
   ]
  },
  {
   "cell_type": "markdown",
   "metadata": {},
   "source": [
    "# Independent Work"
   ]
  },
  {
   "cell_type": "markdown",
   "metadata": {},
   "source": [
    "The regex tester may come in handy for working through these exercises: https://regex101.com/"
   ]
  },
  {
   "cell_type": "markdown",
   "metadata": {},
   "source": [
    "### Phone Numbers \n",
    "Here are the different ways of formatting a phone number dialed in the United States: \n",
    "\n",
    "Local Format: 754-3010\n",
    "\n",
    "Domestic Format: (541) 754-3010\n",
    "\n",
    "International Format: +1-541-754-3010\n",
    "\n",
    "Create a list of phone numbers and write a program that will reformat the numbers into a different format"
   ]
  },
  {
   "cell_type": "code",
   "execution_count": null,
   "metadata": {},
   "outputs": [],
   "source": []
  },
  {
   "cell_type": "markdown",
   "metadata": {},
   "source": [
    "### Names\n",
    "Create a program that will reformat a name written in the format \"FirstName LastName\" to \"LastName, FirstName\". Make sure that it can handle \"Jr.\", \"Sr.\" suffixes  or \"Dr.\" prefixes correctly.  "
   ]
  },
  {
   "cell_type": "code",
   "execution_count": null,
   "metadata": {},
   "outputs": [],
   "source": []
  },
  {
   "cell_type": "markdown",
   "metadata": {},
   "source": [
    "### Shakespeare's Complete Works\n",
    "This file comes from Project Gutenburg. Feel free to browse the site and choose a different book to use (link to the URL for its text file). I have Shakespeare's complete works as a default here for you to use. "
   ]
  },
  {
   "cell_type": "code",
   "execution_count": 82,
   "metadata": {},
   "outputs": [],
   "source": [
    "import re\n",
    "import requests\n",
    "shakespeare_url = 'https://www.gutenberg.org/files/100/100-0.txt'\n",
    "\n",
    "def get_book(url):\n",
    "    # Sends a http request to get the text from project Gutenberg\n",
    "    raw = requests.get(url).text\n",
    "    # Discards the metadata from the beginning of the book\n",
    "    start = re.search(r\"\\*\\*\\* START OF THIS PROJECT GUTENBERG EBOOK .* \\*\\*\\*\",raw ).end()\n",
    "    # Discards the metadata from the end of the book\n",
    "    stop = re.search(r\"II\", raw).start()\n",
    "    # Keeps the relevant text\n",
    "    text = raw[start:stop]\n",
    "    return text\n",
    "\n",
    "book = get_book(shakespeare_url)"
   ]
  },
  {
   "cell_type": "markdown",
   "metadata": {},
   "source": [
    "Write a program that answers the following questions:\n",
    "\n",
    "* How many times does the word \"the\" appear in the corpus? \n",
    "\n",
    "* How many times is there a quote (\"\") in the corpus? \n",
    "\n",
    "* How many times does the character \"d\" followed by \"e\" appear? \n",
    "\n",
    "* How many times does the character \"d\" followed by \"e\" appear separated by a single letter? \n",
    "\n",
    "* How many times does the character \"d\" followed by \"e\" appear in any order? \n",
    "\n",
    "* How many times does the word \"sooth\" appear? (If you chose a different text to use, choose your own word here). \n",
    "\n",
    "* How many words in the corpus end with \"e\"?\n",
    "\n",
    "* How many times are there three or more digits in a row in the text?"
   ]
  },
  {
   "cell_type": "code",
   "execution_count": null,
   "metadata": {},
   "outputs": [],
   "source": [
    "def preprocess(sentence): \n",
    "    return re.sub('[^A-Za-z0-9.]+' , ' ', sentence).lower()\n",
    "processed_book = preprocess(book)\n",
    "print(processed_book)"
   ]
  },
  {
   "cell_type": "code",
   "execution_count": null,
   "metadata": {},
   "outputs": [],
   "source": []
  },
  {
   "cell_type": "code",
   "execution_count": null,
   "metadata": {},
   "outputs": [],
   "source": []
  },
  {
   "cell_type": "markdown",
   "metadata": {},
   "source": [
    "### Journal Articles\n",
    "In the data folder, there is a file called `journals.txt` that contains data on journal articles. Read the data into Python and write a program to create a Pandas dataframe with columns that correspond to the data in the file. "
   ]
  },
  {
   "cell_type": "code",
   "execution_count": 24,
   "metadata": {},
   "outputs": [],
   "source": [
    "import pandas as pd\n",
    "import re\n",
    "import numpy as np"
   ]
  },
  {
   "cell_type": "code",
   "execution_count": 25,
   "metadata": {},
   "outputs": [],
   "source": [
    "\n",
    "# create regex dictionary\n",
    "rx_dict = {\n",
    "    'author': re.compile(r'(^.*?)\\(\\d{4}\\)\\.\\s\\\"'),\n",
    "    'date': re.compile(r'.*\\((\\d{4})\\)\\.'),\n",
    "    'title': re.compile(r'.*(\\\".*\\\")'),\n",
    "    'journal': re.compile(r'.*\\\"\\s(.*?)\\d{1,2}\\('),\n",
    "    'abstract': re.compile(r'^.+\\t(.*)')\n",
    "}"
   ]
  },
  {
   "cell_type": "code",
   "execution_count": 26,
   "metadata": {},
   "outputs": [],
   "source": [
    "output = pd.DataFrame()\n",
    "row_number = 0\n",
    "with open('data/journals.txt', 'r') as file_object:\n",
    "    line = file_object.readline()\n",
    "    while line:\n",
    "        # get parse line function working\n",
    "        row = {}\n",
    "        for key, rx in rx_dict.items():\n",
    "            match = rx.match(line)\n",
    "            if match:\n",
    "                row[key] = match.group(1)\n",
    "            else:\n",
    "                row[key] = np.nan\n",
    "        output = output.append(row, ignore_index=True)\n",
    "        row_number += 1\n",
    "        line = file_object.readline()"
   ]
  },
  {
   "cell_type": "code",
   "execution_count": 29,
   "metadata": {},
   "outputs": [],
   "source": [
    "# deal with NaNs\n",
    "output = output.replace(r'^\\s*$', np.nan, regex=True)\n",
    "output = output.dropna(how='all')"
   ]
  },
  {
   "cell_type": "code",
   "execution_count": 31,
   "metadata": {},
   "outputs": [
    {
     "data": {
      "text/html": [
       "<div>\n",
       "<style scoped>\n",
       "    .dataframe tbody tr th:only-of-type {\n",
       "        vertical-align: middle;\n",
       "    }\n",
       "\n",
       "    .dataframe tbody tr th {\n",
       "        vertical-align: top;\n",
       "    }\n",
       "\n",
       "    .dataframe thead th {\n",
       "        text-align: right;\n",
       "    }\n",
       "</style>\n",
       "<table border=\"1\" class=\"dataframe\">\n",
       "  <thead>\n",
       "    <tr style=\"text-align: right;\">\n",
       "      <th></th>\n",
       "      <th>abstract</th>\n",
       "      <th>author</th>\n",
       "      <th>date</th>\n",
       "      <th>journal</th>\n",
       "      <th>title</th>\n",
       "    </tr>\n",
       "  </thead>\n",
       "  <tbody>\n",
       "    <tr>\n",
       "      <td>0</td>\n",
       "      <td>NaN</td>\n",
       "      <td>﻿</td>\n",
       "      <td>1994</td>\n",
       "      <td>Science Communication</td>\n",
       "      <td>\"Conference - Public Perceptions of Research a...</td>\n",
       "    </tr>\n",
       "    <tr>\n",
       "      <td>2</td>\n",
       "      <td>NaN</td>\n",
       "      <td>NaN</td>\n",
       "      <td>1997</td>\n",
       "      <td>Science Communication</td>\n",
       "      <td>\"Sciences in the south: Current issues, vol 6,...</td>\n",
       "    </tr>\n",
       "    <tr>\n",
       "      <td>4</td>\n",
       "      <td>NaN</td>\n",
       "      <td>NaN</td>\n",
       "      <td>1997</td>\n",
       "      <td>Science Communication</td>\n",
       "      <td>\"Utilization-focused evaluation: The new centu...</td>\n",
       "    </tr>\n",
       "    <tr>\n",
       "      <td>6</td>\n",
       "      <td>NaN</td>\n",
       "      <td>NaN</td>\n",
       "      <td>1997</td>\n",
       "      <td>Science Communication</td>\n",
       "      <td>\"Fighting for survival: Environmental decline,...</td>\n",
       "    </tr>\n",
       "    <tr>\n",
       "      <td>8</td>\n",
       "      <td>NaN</td>\n",
       "      <td>NaN</td>\n",
       "      <td>1997</td>\n",
       "      <td>Science Communication</td>\n",
       "      <td>\"International scientific cooperation - French...</td>\n",
       "    </tr>\n",
       "  </tbody>\n",
       "</table>\n",
       "</div>"
      ],
      "text/plain": [
       "  abstract author  date                 journal  \\\n",
       "0      NaN      ﻿  1994  Science Communication    \n",
       "2      NaN    NaN  1997  Science Communication    \n",
       "4      NaN    NaN  1997  Science Communication    \n",
       "6      NaN    NaN  1997  Science Communication    \n",
       "8      NaN    NaN  1997  Science Communication    \n",
       "\n",
       "                                               title  \n",
       "0  \"Conference - Public Perceptions of Research a...  \n",
       "2  \"Sciences in the south: Current issues, vol 6,...  \n",
       "4  \"Utilization-focused evaluation: The new centu...  \n",
       "6  \"Fighting for survival: Environmental decline,...  \n",
       "8  \"International scientific cooperation - French...  "
      ]
     },
     "execution_count": 31,
     "metadata": {},
     "output_type": "execute_result"
    }
   ],
   "source": [
    "output.head()"
   ]
  },
  {
   "cell_type": "markdown",
   "metadata": {},
   "source": [
    "### Bonus\n",
    "Want more to do? Check this out: https://regexcrossword.com/\n",
    "\n",
    "And this: https://alf.nu/RegexGolf"
   ]
  },
  {
   "cell_type": "code",
   "execution_count": null,
   "metadata": {},
   "outputs": [],
   "source": []
  },
  {
   "cell_type": "code",
   "execution_count": null,
   "metadata": {},
   "outputs": [],
   "source": []
  },
  {
   "cell_type": "code",
   "execution_count": null,
   "metadata": {},
   "outputs": [],
   "source": []
  },
  {
   "cell_type": "code",
   "execution_count": null,
   "metadata": {},
   "outputs": [],
   "source": []
  },
  {
   "cell_type": "code",
   "execution_count": null,
   "metadata": {},
   "outputs": [],
   "source": []
  },
  {
   "cell_type": "code",
   "execution_count": null,
   "metadata": {},
   "outputs": [],
   "source": []
  }
 ],
 "metadata": {
  "kernelspec": {
   "display_name": "Python 3",
   "language": "python",
   "name": "python3"
  },
  "language_info": {
   "codemirror_mode": {
    "name": "ipython",
    "version": 3
   },
   "file_extension": ".py",
   "mimetype": "text/x-python",
   "name": "python",
   "nbconvert_exporter": "python",
   "pygments_lexer": "ipython3",
   "version": "3.7.4"
  }
 },
 "nbformat": 4,
 "nbformat_minor": 2
}
