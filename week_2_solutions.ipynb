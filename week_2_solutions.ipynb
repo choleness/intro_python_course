{
 "cells": [
  {
   "cell_type": "markdown",
   "metadata": {},
   "source": [
    "# Introduction to Python for Biology\n",
    "# Week 2"
   ]
  },
  {
   "cell_type": "markdown",
   "metadata": {},
   "source": [
    "## For Loops"
   ]
  },
  {
   "cell_type": "code",
   "execution_count": 1,
   "metadata": {},
   "outputs": [],
   "source": [
    "week = [\"Monday\", \"Tuesday\", \"Wednesday\", \"Thursday\", \"Friday\", \"Saturday\", \"Sunday\"]"
   ]
  },
  {
   "cell_type": "markdown",
   "metadata": {},
   "source": [
    "Let's say we want to print out each element of our list of days along with a message. We could do it this way:"
   ]
  },
  {
   "cell_type": "code",
   "execution_count": 2,
   "metadata": {},
   "outputs": [
    {
     "name": "stdout",
     "output_type": "stream",
     "text": [
      "Today is Monday\n",
      "Today is Tuesday\n",
      "Today is Wednesday\n",
      "Today is Thursday\n",
      "Today is Friday\n",
      "Today is Saturday\n",
      "Today is Sunday\n"
     ]
    }
   ],
   "source": [
    "print(\"Today is \" + week[0])\n",
    "print(\"Today is \" + week[1])\n",
    "print(\"Today is \" + week[2])\n",
    "print(\"Today is \" + week[3])\n",
    "print(\"Today is \" + week[4])\n",
    "print(\"Today is \" + week[5])\n",
    "print(\"Today is \" + week[6])"
   ]
  },
  {
   "cell_type": "markdown",
   "metadata": {},
   "source": [
    "This is really repetitive and requires that I know how many elements are in my list. In programming, when you feel yourself repeating yourself like this, check if there is a way to make it easier on yourself. D.R.Y. (Don't Repeat Yourself). Also, if we wanted to change some of the code, we would have to go in and do it seven times. \n",
    "\n",
    "So, we can use Python's loop syntax (grammar) to say:\n",
    "*For each element in the list of days, print out the words \"Today is \" followed by the list element.\n",
    "\n",
    "That looks like this:"
   ]
  },
  {
   "cell_type": "code",
   "execution_count": 3,
   "metadata": {},
   "outputs": [
    {
     "name": "stdout",
     "output_type": "stream",
     "text": [
      "Today is Monday\n",
      "Today is Tuesday\n",
      "Today is Wednesday\n",
      "Today is Thursday\n",
      "Today is Friday\n",
      "Today is Saturday\n",
      "Today is Sunday\n"
     ]
    }
   ],
   "source": [
    "for day in week:\n",
    "    print(\"Today is \" + day)"
   ]
  },
  {
   "cell_type": "markdown",
   "metadata": {},
   "source": [
    "Let's break this down. It starts with `for item in list`, where `item` is a variable name we make up and `list` is the name of the list we are looping through. We can use the name `item` (or whatever we called it) to refer to that element within our loop. \n",
    "\n",
    "We end this first line with a colon, and we indent all of the lines after that. Indents can actually be any number of tab or space characters, but we need to make sure we are consistent. This tabbed part indicates that it belongs to the loop, and we call it the **body** of the loop. Each time we go through the loop, the body will be executed on that new element. The body can contain more than one line of code (each will be executed for each item). \n",
    "\n",
    "We can make a loop that is a bit more complicated:"
   ]
  },
  {
   "cell_type": "code",
   "execution_count": 4,
   "metadata": {},
   "outputs": [
    {
     "name": "stdout",
     "output_type": "stream",
     "text": [
      "Monday is a day of the week. Its ends with M\n",
      "It has 6 letters\n",
      "Tuesday is a day of the week. Its ends with T\n",
      "It has 7 letters\n",
      "Wednesday is a day of the week. Its ends with W\n",
      "It has 9 letters\n",
      "Thursday is a day of the week. Its ends with T\n",
      "It has 8 letters\n",
      "Friday is a day of the week. Its ends with F\n",
      "It has 6 letters\n",
      "Saturday is a day of the week. Its ends with S\n",
      "It has 8 letters\n",
      "Sunday is a day of the week. Its ends with S\n",
      "It has 6 letters\n"
     ]
    }
   ],
   "source": [
    "for day in week:\n",
    "    name_length = len(day)\n",
    "    last_letter = day[0]\n",
    "    print(day + \" is a day of the week. Its ends with \" + last_letter)\n",
    "    print(\"It has \" + str(name_length) + \" letters\")"
   ]
  },
  {
   "cell_type": "markdown",
   "metadata": {},
   "source": [
    "Notice above that I use a string variable like a list above and used the indexing we learned earlier on it. We can treat strings like we do lists."
   ]
  },
  {
   "cell_type": "code",
   "execution_count": 5,
   "metadata": {},
   "outputs": [
    {
     "name": "stdout",
     "output_type": "stream",
     "text": [
      "P\n",
      "Y\n",
      "T\n",
      "H\n",
      "O\n",
      "N\n"
     ]
    }
   ],
   "source": [
    "program = \"python\"\n",
    "for letter in program:\n",
    "    print(letter.upper())"
   ]
  },
  {
   "cell_type": "markdown",
   "metadata": {},
   "source": [
    "Strings have their own special methods just like lists do. We'll play with these more in a future class.\n",
    "\n",
    "We can also use looping to iterate over lines in a file or over files in a folder. More on that in a future class."
   ]
  },
  {
   "cell_type": "markdown",
   "metadata": {},
   "source": [
    "We can also us for loops to iterate over a list of numbers using `range()`. If we use one argument in range, it will count from zero up to and not including that number. "
   ]
  },
  {
   "cell_type": "code",
   "execution_count": 6,
   "metadata": {},
   "outputs": [
    {
     "name": "stdout",
     "output_type": "stream",
     "text": [
      "0\n",
      "1\n",
      "2\n",
      "3\n",
      "4\n",
      "5\n",
      "6\n",
      "7\n",
      "8\n",
      "9\n"
     ]
    }
   ],
   "source": [
    "for number in range(10):\n",
    "    print(number)"
   ]
  },
  {
   "cell_type": "markdown",
   "metadata": {},
   "source": [
    "We can add a second argument to have it count from the first number up to and not including the second number."
   ]
  },
  {
   "cell_type": "code",
   "execution_count": 7,
   "metadata": {},
   "outputs": [
    {
     "name": "stdout",
     "output_type": "stream",
     "text": [
      "4\n",
      "5\n",
      "6\n",
      "7\n",
      "8\n",
      "9\n",
      "10\n",
      "11\n",
      "12\n",
      "13\n",
      "14\n",
      "15\n",
      "16\n",
      "17\n",
      "18\n",
      "19\n",
      "20\n",
      "21\n",
      "22\n",
      "23\n",
      "24\n",
      "25\n",
      "26\n",
      "27\n",
      "28\n",
      "29\n",
      "30\n",
      "31\n",
      "32\n",
      "33\n"
     ]
    }
   ],
   "source": [
    "for number in range(4, 34):\n",
    "    print(number)"
   ]
  },
  {
   "cell_type": "markdown",
   "metadata": {},
   "source": [
    "If we add a third argument, the third number will be the step-size (what it will count by)."
   ]
  },
  {
   "cell_type": "code",
   "execution_count": 8,
   "metadata": {},
   "outputs": [
    {
     "name": "stdout",
     "output_type": "stream",
     "text": [
      "10\n",
      "12\n",
      "14\n",
      "16\n",
      "18\n",
      "20\n",
      "22\n",
      "24\n",
      "26\n",
      "28\n",
      "30\n",
      "32\n",
      "34\n",
      "36\n",
      "38\n",
      "40\n",
      "42\n",
      "44\n",
      "46\n",
      "48\n",
      "50\n",
      "52\n",
      "54\n",
      "56\n",
      "58\n",
      "60\n",
      "62\n",
      "64\n",
      "66\n",
      "68\n",
      "70\n",
      "72\n",
      "74\n",
      "76\n",
      "78\n",
      "80\n",
      "82\n",
      "84\n",
      "86\n",
      "88\n",
      "90\n",
      "92\n",
      "94\n",
      "96\n",
      "98\n"
     ]
    }
   ],
   "source": [
    "for number in range(10, 100, 2):\n",
    "    print(number)"
   ]
  },
  {
   "cell_type": "markdown",
   "metadata": {},
   "source": [
    "## Dictionaries"
   ]
  },
  {
   "cell_type": "markdown",
   "metadata": {},
   "source": [
    "If we want to store **key-value pairs**, we can use a dictionary. In other programming languages, they sometimes go by other names, like associative array. Instead of being indexed by a number like a list, they are indexed by their key name.\n",
    "\n",
    "Dictionaries can only store keys strings and numbers. So we can't make file objects our keys. Values can be whatever we like. Note that keys must be unique."
   ]
  },
  {
   "cell_type": "code",
   "execution_count": 10,
   "metadata": {},
   "outputs": [],
   "source": [
    "capitals = {\"spain\": \"madrid\", \"japan\": \"tokyo\", \"usa\": \"washington d.c.\"}"
   ]
  },
  {
   "cell_type": "code",
   "execution_count": 11,
   "metadata": {},
   "outputs": [
    {
     "name": "stdout",
     "output_type": "stream",
     "text": [
      "tokyo\n"
     ]
    }
   ],
   "source": [
    "print(capitals[\"japan\"])"
   ]
  },
  {
   "cell_type": "markdown",
   "metadata": {},
   "source": [
    "We can create an empty dictionary and add elements to it. (This might be more likely what we do in our own programs)."
   ]
  },
  {
   "cell_type": "code",
   "execution_count": 14,
   "metadata": {},
   "outputs": [],
   "source": [
    "capitals = {}"
   ]
  },
  {
   "cell_type": "code",
   "execution_count": 15,
   "metadata": {
    "scrolled": true
   },
   "outputs": [],
   "source": [
    "capitals[\"spain\"] = \"madrid\""
   ]
  },
  {
   "cell_type": "code",
   "execution_count": 16,
   "metadata": {},
   "outputs": [],
   "source": [
    "capitals[\"japan\"] = \"tokyo\""
   ]
  },
  {
   "cell_type": "code",
   "execution_count": 17,
   "metadata": {},
   "outputs": [],
   "source": [
    "capitals[\"usa\"] = \"washington d.c.\""
   ]
  },
  {
   "cell_type": "code",
   "execution_count": 18,
   "metadata": {},
   "outputs": [
    {
     "name": "stdout",
     "output_type": "stream",
     "text": [
      "{'spain': 'madrid', 'japan': 'tokyo', 'usa': 'washington d.c.'}\n"
     ]
    }
   ],
   "source": [
    "print(capitals)"
   ]
  },
  {
   "cell_type": "markdown",
   "metadata": {},
   "source": [
    "If we want to remove an item from the dicitonary, we can use the `.pop()` method. This will return the value and delete the key. "
   ]
  },
  {
   "cell_type": "code",
   "execution_count": 19,
   "metadata": {},
   "outputs": [
    {
     "data": {
      "text/plain": [
       "'washington d.c.'"
      ]
     },
     "execution_count": 19,
     "metadata": {},
     "output_type": "execute_result"
    }
   ],
   "source": [
    "capitals.pop(\"usa\")"
   ]
  },
  {
   "cell_type": "markdown",
   "metadata": {},
   "source": [
    "We can iterate over a dictionary. Dictionaries are unordered. \n",
    "\n",
    "We can iterate using the `.keys()` method, which returns the keys of the dictionary. The `.get()` method will return the value of that key."
   ]
  },
  {
   "cell_type": "code",
   "execution_count": 20,
   "metadata": {},
   "outputs": [
    {
     "data": {
      "text/plain": [
       "dict_keys(['spain', 'japan'])"
      ]
     },
     "execution_count": 20,
     "metadata": {},
     "output_type": "execute_result"
    }
   ],
   "source": [
    "capitals.keys()"
   ]
  },
  {
   "cell_type": "code",
   "execution_count": 21,
   "metadata": {},
   "outputs": [
    {
     "data": {
      "text/plain": [
       "'tokyo'"
      ]
     },
     "execution_count": 21,
     "metadata": {},
     "output_type": "execute_result"
    }
   ],
   "source": [
    "capitals.get(\"japan\")"
   ]
  },
  {
   "cell_type": "code",
   "execution_count": 22,
   "metadata": {},
   "outputs": [
    {
     "name": "stdout",
     "output_type": "stream",
     "text": [
      "spain madrid\n",
      "japan tokyo\n"
     ]
    }
   ],
   "source": [
    "for country in capitals.keys():\n",
    "    print(country, capitals.get(country))"
   ]
  },
  {
   "cell_type": "markdown",
   "metadata": {},
   "source": [
    "Or using the `.items()` method to get both keys and values. This method returns two values, which is new for us."
   ]
  },
  {
   "cell_type": "code",
   "execution_count": 23,
   "metadata": {},
   "outputs": [
    {
     "name": "stdout",
     "output_type": "stream",
     "text": [
      "spain madrid\n",
      "japan tokyo\n"
     ]
    }
   ],
   "source": [
    "for key, value in capitals.items():\n",
    "    print(key, value)"
   ]
  },
  {
   "cell_type": "markdown",
   "metadata": {},
   "source": [
    "# zip()"
   ]
  },
  {
   "cell_type": "markdown",
   "metadata": {},
   "source": [
    "The `zip()` function is handy in our work. It can pair together the items in two tuples. \n",
    "\n",
    "It returns a \"zip object\" which is an iterator. This zip object is iterator of tuples where the first item in each passed iterator is paired together, and then the second item in each passed iterator are paired together etc.\n",
    "\n",
    "If the passed iterables have different lengths, the iterable with the least items decides the length of the new iterator."
   ]
  },
  {
   "cell_type": "code",
   "execution_count": 55,
   "metadata": {},
   "outputs": [],
   "source": [
    "a = (\"A\", \"B\", \"C\")\n",
    "b = (1, 2, 3)"
   ]
  },
  {
   "cell_type": "code",
   "execution_count": null,
   "metadata": {},
   "outputs": [],
   "source": [
    "pairs = zip(a, b)"
   ]
  },
  {
   "cell_type": "code",
   "execution_count": 56,
   "metadata": {},
   "outputs": [
    {
     "data": {
      "text/plain": [
       "<zip at 0x1047adb00>"
      ]
     },
     "execution_count": 56,
     "metadata": {},
     "output_type": "execute_result"
    }
   ],
   "source": [
    "pairs"
   ]
  },
  {
   "cell_type": "code",
   "execution_count": 57,
   "metadata": {},
   "outputs": [
    {
     "name": "stdout",
     "output_type": "stream",
     "text": [
      "('A', 1)\n",
      "('B', 2)\n",
      "('C', 3)\n"
     ]
    }
   ],
   "source": [
    "for item in pairs:\n",
    "    print(item)"
   ]
  },
  {
   "cell_type": "markdown",
   "metadata": {},
   "source": [
    "## Conditionals"
   ]
  },
  {
   "cell_type": "markdown",
   "metadata": {},
   "source": [
    "Sometimes we want our program to make decisions. For this we can use conditions, which test give us a true or false answer to a question we ask. Let's try this out and test some conditions. We get a **Boolean** returned to us (not a string). "
   ]
  },
  {
   "cell_type": "markdown",
   "metadata": {},
   "source": [
    "To test if something is equal to, we use two equal signs (not one--that would be variable assignment)."
   ]
  },
  {
   "cell_type": "code",
   "execution_count": 24,
   "metadata": {},
   "outputs": [
    {
     "data": {
      "text/plain": [
       "True"
      ]
     },
     "execution_count": 24,
     "metadata": {},
     "output_type": "execute_result"
    }
   ],
   "source": [
    "42==42"
   ]
  },
  {
   "cell_type": "code",
   "execution_count": 25,
   "metadata": {},
   "outputs": [
    {
     "data": {
      "text/plain": [
       "False"
      ]
     },
     "execution_count": 25,
     "metadata": {},
     "output_type": "execute_result"
    }
   ],
   "source": [
    "42==45"
   ]
  },
  {
   "cell_type": "markdown",
   "metadata": {},
   "source": [
    "To test is something is not equal to, we use `!=` (we call exclamation points \"bangs\" in programming). "
   ]
  },
  {
   "cell_type": "code",
   "execution_count": 26,
   "metadata": {},
   "outputs": [
    {
     "data": {
      "text/plain": [
       "True"
      ]
     },
     "execution_count": 26,
     "metadata": {},
     "output_type": "execute_result"
    }
   ],
   "source": [
    "3 != 2"
   ]
  },
  {
   "cell_type": "markdown",
   "metadata": {},
   "source": [
    "We can also test if numbers are greater than or less than (> and <) or greater than or equal to/less than or equal to (>= and <=)."
   ]
  },
  {
   "cell_type": "code",
   "execution_count": 27,
   "metadata": {},
   "outputs": [
    {
     "data": {
      "text/plain": [
       "False"
      ]
     },
     "execution_count": 27,
     "metadata": {},
     "output_type": "execute_result"
    }
   ],
   "source": [
    "2 >3"
   ]
  },
  {
   "cell_type": "code",
   "execution_count": 28,
   "metadata": {},
   "outputs": [
    {
     "data": {
      "text/plain": [
       "True"
      ]
     },
     "execution_count": 28,
     "metadata": {},
     "output_type": "execute_result"
    }
   ],
   "source": [
    "4 >= 4"
   ]
  },
  {
   "cell_type": "code",
   "execution_count": 29,
   "metadata": {},
   "outputs": [
    {
     "data": {
      "text/plain": [
       "True"
      ]
     },
     "execution_count": 29,
     "metadata": {},
     "output_type": "execute_result"
    }
   ],
   "source": [
    "len(\"python\") > 3"
   ]
  },
  {
   "cell_type": "markdown",
   "metadata": {},
   "source": [
    "We can use `in` to see if a value is in a list. "
   ]
  },
  {
   "cell_type": "code",
   "execution_count": 30,
   "metadata": {},
   "outputs": [
    {
     "data": {
      "text/plain": [
       "True"
      ]
     },
     "execution_count": 30,
     "metadata": {},
     "output_type": "execute_result"
    }
   ],
   "source": [
    "\"a\" in [\"a\", \"b\", \"c\"]"
   ]
  },
  {
   "cell_type": "markdown",
   "metadata": {},
   "source": [
    "There are also methods that return a Boolean, like `.startswith()`"
   ]
  },
  {
   "cell_type": "code",
   "execution_count": 31,
   "metadata": {},
   "outputs": [
    {
     "data": {
      "text/plain": [
       "False"
      ]
     },
     "execution_count": 31,
     "metadata": {},
     "output_type": "execute_result"
    }
   ],
   "source": [
    "\"python\".startswith(\"R\")"
   ]
  },
  {
   "cell_type": "markdown",
   "metadata": {},
   "source": [
    "Now we can use these condition statements with an `if` statement to create a decision point on whether or not a block of code is executed. Write the word `if` followed by a condition, and end that line with a colon. Then the next line starts a block of code, so indent it (remember this from looping). The code block will only run if the condition is true. "
   ]
  },
  {
   "cell_type": "code",
   "execution_count": 32,
   "metadata": {},
   "outputs": [
    {
     "name": "stdout",
     "output_type": "stream",
     "text": [
      "water is boiling\n"
     ]
    }
   ],
   "source": [
    "temp = 120\n",
    "if temp > 100:\n",
    "    print(\"water is boiling\")"
   ]
  },
  {
   "cell_type": "markdown",
   "metadata": {},
   "source": [
    "Let's loop through a list and check on values. We'll have to use multiple levels of indentation. We can have as many level of indentation as we need, but if we end up with more than three levels, it might be an indicator that we should turn the code into a function. More on functions later!"
   ]
  },
  {
   "cell_type": "code",
   "execution_count": 33,
   "metadata": {},
   "outputs": [
    {
     "name": "stdout",
     "output_type": "stream",
     "text": [
      "120 water is boiling\n",
      "130 water is boiling\n"
     ]
    }
   ],
   "source": [
    "temperatures = [100, 54, 98, 120, 130, 0, -2, -13]\n",
    "for temp in temperatures:\n",
    "    if temp > 100:\n",
    "        print(temp, \"water is boiling\")"
   ]
  },
  {
   "cell_type": "markdown",
   "metadata": {},
   "source": [
    "`else` is used to run a block of code if the `if` condition is false. `else` and `if` will be at the same level of indentation."
   ]
  },
  {
   "cell_type": "code",
   "execution_count": 34,
   "metadata": {},
   "outputs": [
    {
     "name": "stdout",
     "output_type": "stream",
     "text": [
      "water is not boiling\n"
     ]
    }
   ],
   "source": [
    "temp = 98\n",
    "if temp > 100:\n",
    "    print(\"water is boiling\")\n",
    "else:\n",
    "    print(\"water is not boiling\")"
   ]
  },
  {
   "cell_type": "markdown",
   "metadata": {},
   "source": [
    "If we want to add more than two possible branches, we can add as many `elif` statements to check for other conditions."
   ]
  },
  {
   "cell_type": "code",
   "execution_count": 36,
   "metadata": {
    "scrolled": true
   },
   "outputs": [
    {
     "name": "stdout",
     "output_type": "stream",
     "text": [
      "100 water is liquid\n",
      "54 water is liquid\n",
      "98 water is liquid\n",
      "120 water is boiling\n",
      "130 water is boiling\n",
      "0 water is liquid\n",
      "-2 water is freezing\n",
      "-13 water is freezing\n"
     ]
    }
   ],
   "source": [
    "temperatures = [100, 54, 98, 120, 130, 0, -2, -13]\n",
    "for temp in temperatures:\n",
    "    if temp > 100:\n",
    "        print(temp, \"water is boiling\")\n",
    "    elif temp < 0:\n",
    "        print(temp, \"water is freezing\")\n",
    "    else:\n",
    "        print(temp, \"water is liquid\")"
   ]
  },
  {
   "cell_type": "markdown",
   "metadata": {},
   "source": [
    "# Independent Work"
   ]
  },
  {
   "cell_type": "markdown",
   "metadata": {},
   "source": [
    "### Recommendations for weather conditions \n",
    "\n",
    "1. The temperature is higher than 15 degrees and it is raining: Bring an umbrella.  \n",
    "2. The temperature is lower than or equal to 15 degrees and it is raining: Bring an umbrella and a jacket.  \n",
    "3. The temperature is higher than 15 degrees and the sun is shining: Wear a T-shirt.  \n",
    "4. The temperature is lower than or equal to 15 degrees and the sun is shining: Bring a jacket. "
   ]
  },
  {
   "cell_type": "code",
   "execution_count": 37,
   "metadata": {},
   "outputs": [],
   "source": [
    "temperature = 12\n",
    "weather = 'shine'"
   ]
  },
  {
   "cell_type": "code",
   "execution_count": 38,
   "metadata": {},
   "outputs": [
    {
     "name": "stdout",
     "output_type": "stream",
     "text": [
      "bring a jacket\n"
     ]
    }
   ],
   "source": [
    "if temperature > 15:\n",
    "    if weather == 'rain':\n",
    "        print('bring an umbrella')\n",
    "    elif weather == 'shine':\n",
    "        print('wear a t-shirt')\n",
    "else:\n",
    "    if weather == 'rain':\n",
    "        print('bring an umbrella and a jacket')\n",
    "    else:\n",
    "        print('bring a jacket')"
   ]
  },
  {
   "cell_type": "markdown",
   "metadata": {},
   "source": [
    "### Iterate from 1 to 30 with the following instructions:  \n",
    "If a number is divisible by 3, print 'fizz'.  \n",
    "If a number is divisible by 5, print 'buzz'.  \n",
    "If a number is both divisible by 3 and 5 print 'fizzbuzz'.  \n",
    "Otherwise, print just the number.  "
   ]
  },
  {
   "cell_type": "code",
   "execution_count": 39,
   "metadata": {},
   "outputs": [
    {
     "name": "stdout",
     "output_type": "stream",
     "text": [
      "1\n",
      "2\n",
      "fizz\n",
      "4\n",
      "buzz\n",
      "fizz\n",
      "7\n",
      "8\n",
      "fizz\n",
      "buzz\n",
      "11\n",
      "fizz\n",
      "13\n",
      "14\n",
      "fizzbuzz\n",
      "16\n",
      "17\n",
      "fizz\n",
      "19\n",
      "buzz\n",
      "fizz\n",
      "22\n",
      "23\n",
      "fizz\n",
      "buzz\n",
      "26\n",
      "fizz\n",
      "28\n",
      "29\n",
      "fizzbuzz\n"
     ]
    }
   ],
   "source": [
    "for i in range(1, 31):\n",
    "    if (i % 3 == 0) and (i % 5 == 0):\n",
    "        print('fizzbuzz')\n",
    "    elif (i % 3 == 0):\n",
    "        print('fizz')\n",
    "    elif (i % 5 == 0):\n",
    "        print('buzz')\n",
    "    else:\n",
    "        print(i)"
   ]
  },
  {
   "cell_type": "markdown",
   "metadata": {},
   "source": [
    "### Bonus Problem: Iterate through the animals. Print out the animal name and the number of vowels in the name."
   ]
  },
  {
   "cell_type": "code",
   "execution_count": 40,
   "metadata": {},
   "outputs": [],
   "source": [
    "animals = ['duck', 'rat', 'boar', 'slug', 'mammoth', 'gazelle']"
   ]
  },
  {
   "cell_type": "code",
   "execution_count": 41,
   "metadata": {},
   "outputs": [
    {
     "name": "stdout",
     "output_type": "stream",
     "text": [
      "duck 1\n",
      "rat 1\n",
      "boar 2\n",
      "slug 1\n",
      "mammoth 2\n",
      "gazelle 3\n"
     ]
    }
   ],
   "source": [
    "vowels = 'aeiou'\n",
    "for animal in animals:\n",
    "    vowel_count = 0\n",
    "    for character in animal:\n",
    "        if character in vowels:\n",
    "            vowel_count += 1\n",
    "    print(animal, vowel_count)"
   ]
  },
  {
   "cell_type": "markdown",
   "metadata": {},
   "source": [
    "### Bonus Problem: DNA Sequence Trimming/Counting\n",
    "\n",
    "Here we have some made-up DNA sequences, one on each line. Write a program that trims off the 14 base pair (letter) from the beginning of the sequence. Print the cleaned sequence and the length of the sequence. \n",
    "\n",
    "ATTCGATTATAAGCTCGATCGATCGATCGATCGATCGATCGATCGATCGATCGATC\n",
    "\n",
    "ATTCGATTATAAGCACTGATCGATCGATCGATCGATCGATGCTATCGTCGT\n",
    "\n",
    "ATTCGATTATAAGCATCGATCACGATCTATCGTACGTATGCATATCGATATCGATCGTAGTC\n",
    "\n",
    "ATTCGATTATAAGCACTATCGATGATCTAGCTACGATCGTAGCTGTA\n",
    "\n",
    "ATTCGATTATAAGCACTAGCTAGTCTCGATGCATGATCAGCTTAGCTGATGATGCTATGCA"
   ]
  },
  {
   "cell_type": "code",
   "execution_count": 42,
   "metadata": {},
   "outputs": [
    {
     "name": "stdout",
     "output_type": "stream",
     "text": [
      "TCGATCGATCGATCGATCGATCGATCGATCGATCGATCGATC 56\n",
      "ACTGATCGATCGATCGATCGATCGATGCTATCGTCGT 51\n",
      "ATCGATCACGATCTATCGTACGTATGCATATCGATATCGATCGTAGTC 62\n",
      "ACTATCGATGATCTAGCTACGATCGTAGCTGTA 47\n",
      "ACTAGCTAGTCTCGATGCATGATCAGCTTAGCTGATGATGCTATGCA 61\n"
     ]
    }
   ],
   "source": [
    "dna_list = [\"ATTCGATTATAAGCTCGATCGATCGATCGATCGATCGATCGATCGATCGATCGATC\", \"ATTCGATTATAAGCACTGATCGATCGATCGATCGATCGATGCTATCGTCGT\", \"ATTCGATTATAAGCATCGATCACGATCTATCGTACGTATGCATATCGATATCGATCGTAGTC\", \"ATTCGATTATAAGCACTATCGATGATCTAGCTACGATCGTAGCTGTA\",\"ATTCGATTATAAGCACTAGCTAGTCTCGATGCATGATCAGCTTAGCTGATGATGCTATGCA\"]\n",
    "for dna in dna_list:\n",
    "    cleaned_dna = dna[14:]\n",
    "    print(cleaned_dna, len(dna))"
   ]
  },
  {
   "cell_type": "code",
   "execution_count": null,
   "metadata": {},
   "outputs": [],
   "source": []
  },
  {
   "cell_type": "code",
   "execution_count": null,
   "metadata": {},
   "outputs": [],
   "source": []
  }
 ],
 "metadata": {
  "kernelspec": {
   "display_name": "Python 3 (ipykernel)",
   "language": "python",
   "name": "python3"
  },
  "language_info": {
   "codemirror_mode": {
    "name": "ipython",
    "version": 3
   },
   "file_extension": ".py",
   "mimetype": "text/x-python",
   "name": "python",
   "nbconvert_exporter": "python",
   "pygments_lexer": "ipython3",
   "version": "3.11.5"
  }
 },
 "nbformat": 4,
 "nbformat_minor": 2
}
